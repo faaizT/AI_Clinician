{
 "cells": [
  {
   "cell_type": "markdown",
   "metadata": {},
   "source": [
    "# Supervised Learning of Actions - Neural Network\n",
    "We fit a Neural Net to the Sepsis data in this note"
   ]
  },
  {
   "cell_type": "code",
   "execution_count": 1,
   "metadata": {},
   "outputs": [],
   "source": [
    "import pandas as pd\n",
    "import numpy as np\n",
    "exportdir='/data/localhost/taufiq/export-dir/'"
   ]
  },
  {
   "cell_type": "code",
   "execution_count": 2,
   "metadata": {},
   "outputs": [],
   "source": [
    "import logging\n",
    "logging.basicConfig(filename='neural-net.log', level=logging.INFO)"
   ]
  },
  {
   "cell_type": "code",
   "execution_count": 3,
   "metadata": {},
   "outputs": [],
   "source": [
    "nra = 5"
   ]
  },
  {
   "cell_type": "markdown",
   "metadata": {},
   "source": [
    "## Import Data"
   ]
  },
  {
   "cell_type": "code",
   "execution_count": 57,
   "metadata": {},
   "outputs": [
    {
     "data": {
      "text/html": [
       "<div>\n",
       "<style scoped>\n",
       "    .dataframe tbody tr th:only-of-type {\n",
       "        vertical-align: middle;\n",
       "    }\n",
       "\n",
       "    .dataframe tbody tr th {\n",
       "        vertical-align: top;\n",
       "    }\n",
       "\n",
       "    .dataframe thead th {\n",
       "        text-align: right;\n",
       "    }\n",
       "</style>\n",
       "<table border=\"1\" class=\"dataframe\">\n",
       "  <thead>\n",
       "    <tr style=\"text-align: right;\">\n",
       "      <th></th>\n",
       "      <th>gender</th>\n",
       "      <th>mechvent</th>\n",
       "      <th>re_admission</th>\n",
       "      <th>age</th>\n",
       "      <th>Weight_kg</th>\n",
       "      <th>GCS</th>\n",
       "      <th>HR</th>\n",
       "      <th>SysBP</th>\n",
       "      <th>MeanBP</th>\n",
       "      <th>DiaBP</th>\n",
       "      <th>...</th>\n",
       "      <th>Creatinine</th>\n",
       "      <th>SGOT</th>\n",
       "      <th>SGPT</th>\n",
       "      <th>Total_bili</th>\n",
       "      <th>INR</th>\n",
       "      <th>output_total</th>\n",
       "      <th>output_4hourly</th>\n",
       "      <th>last_input</th>\n",
       "      <th>total_input_before</th>\n",
       "      <th>last_vaso_dose</th>\n",
       "    </tr>\n",
       "  </thead>\n",
       "  <tbody>\n",
       "    <tr>\n",
       "      <th>0</th>\n",
       "      <td>-0.5</td>\n",
       "      <td>-0.5</td>\n",
       "      <td>-0.5</td>\n",
       "      <td>-1.051213</td>\n",
       "      <td>1.827456</td>\n",
       "      <td>-0.952846</td>\n",
       "      <td>-0.523975</td>\n",
       "      <td>-0.064338</td>\n",
       "      <td>0.296909</td>\n",
       "      <td>0.475162</td>\n",
       "      <td>...</td>\n",
       "      <td>0.735987</td>\n",
       "      <td>0.250377</td>\n",
       "      <td>-0.38494</td>\n",
       "      <td>3.417208</td>\n",
       "      <td>0.302317</td>\n",
       "      <td>0.074017</td>\n",
       "      <td>0.612008</td>\n",
       "      <td>-1.227250</td>\n",
       "      <td>-1.967244</td>\n",
       "      <td>-0.5</td>\n",
       "    </tr>\n",
       "    <tr>\n",
       "      <th>1</th>\n",
       "      <td>-0.5</td>\n",
       "      <td>-0.5</td>\n",
       "      <td>-0.5</td>\n",
       "      <td>-1.051213</td>\n",
       "      <td>-0.135125</td>\n",
       "      <td>-0.952846</td>\n",
       "      <td>-0.445075</td>\n",
       "      <td>-0.441478</td>\n",
       "      <td>0.000394</td>\n",
       "      <td>0.195434</td>\n",
       "      <td>...</td>\n",
       "      <td>-0.730676</td>\n",
       "      <td>-0.171064</td>\n",
       "      <td>-0.38494</td>\n",
       "      <td>1.549167</td>\n",
       "      <td>-0.961687</td>\n",
       "      <td>0.182853</td>\n",
       "      <td>0.590004</td>\n",
       "      <td>0.287835</td>\n",
       "      <td>0.627278</td>\n",
       "      <td>-0.5</td>\n",
       "    </tr>\n",
       "    <tr>\n",
       "      <th>2</th>\n",
       "      <td>-0.5</td>\n",
       "      <td>-0.5</td>\n",
       "      <td>-0.5</td>\n",
       "      <td>-1.051213</td>\n",
       "      <td>-0.135125</td>\n",
       "      <td>-0.899877</td>\n",
       "      <td>-0.521990</td>\n",
       "      <td>-0.806252</td>\n",
       "      <td>-0.147864</td>\n",
       "      <td>0.182833</td>\n",
       "      <td>...</td>\n",
       "      <td>-0.730676</td>\n",
       "      <td>-0.171064</td>\n",
       "      <td>-0.38494</td>\n",
       "      <td>1.549167</td>\n",
       "      <td>-0.245226</td>\n",
       "      <td>0.248674</td>\n",
       "      <td>0.531440</td>\n",
       "      <td>0.423093</td>\n",
       "      <td>0.629135</td>\n",
       "      <td>-0.5</td>\n",
       "    </tr>\n",
       "    <tr>\n",
       "      <th>3</th>\n",
       "      <td>-0.5</td>\n",
       "      <td>-0.5</td>\n",
       "      <td>-0.5</td>\n",
       "      <td>-1.051213</td>\n",
       "      <td>-0.135125</td>\n",
       "      <td>-0.635036</td>\n",
       "      <td>-0.705596</td>\n",
       "      <td>0.059314</td>\n",
       "      <td>1.334712</td>\n",
       "      <td>1.745278</td>\n",
       "      <td>...</td>\n",
       "      <td>-0.730676</td>\n",
       "      <td>-0.171064</td>\n",
       "      <td>-0.38494</td>\n",
       "      <td>1.549167</td>\n",
       "      <td>-0.961687</td>\n",
       "      <td>0.294020</td>\n",
       "      <td>0.480217</td>\n",
       "      <td>0.423093</td>\n",
       "      <td>0.630978</td>\n",
       "      <td>-0.5</td>\n",
       "    </tr>\n",
       "    <tr>\n",
       "      <th>4</th>\n",
       "      <td>-0.5</td>\n",
       "      <td>-0.5</td>\n",
       "      <td>-0.5</td>\n",
       "      <td>-1.051213</td>\n",
       "      <td>-0.135125</td>\n",
       "      <td>0.381956</td>\n",
       "      <td>0.690797</td>\n",
       "      <td>0.534139</td>\n",
       "      <td>1.527447</td>\n",
       "      <td>1.767959</td>\n",
       "      <td>...</td>\n",
       "      <td>-0.730676</td>\n",
       "      <td>-0.171064</td>\n",
       "      <td>-0.38494</td>\n",
       "      <td>1.549167</td>\n",
       "      <td>-0.961687</td>\n",
       "      <td>0.328069</td>\n",
       "      <td>0.438177</td>\n",
       "      <td>0.423093</td>\n",
       "      <td>0.632806</td>\n",
       "      <td>-0.5</td>\n",
       "    </tr>\n",
       "  </tbody>\n",
       "</table>\n",
       "<p>5 rows × 47 columns</p>\n",
       "</div>"
      ],
      "text/plain": [
       "   gender  mechvent  re_admission       age  Weight_kg       GCS        HR  \\\n",
       "0    -0.5      -0.5          -0.5 -1.051213   1.827456 -0.952846 -0.523975   \n",
       "1    -0.5      -0.5          -0.5 -1.051213  -0.135125 -0.952846 -0.445075   \n",
       "2    -0.5      -0.5          -0.5 -1.051213  -0.135125 -0.899877 -0.521990   \n",
       "3    -0.5      -0.5          -0.5 -1.051213  -0.135125 -0.635036 -0.705596   \n",
       "4    -0.5      -0.5          -0.5 -1.051213  -0.135125  0.381956  0.690797   \n",
       "\n",
       "      SysBP    MeanBP     DiaBP  ...  Creatinine      SGOT     SGPT  \\\n",
       "0 -0.064338  0.296909  0.475162  ...    0.735987  0.250377 -0.38494   \n",
       "1 -0.441478  0.000394  0.195434  ...   -0.730676 -0.171064 -0.38494   \n",
       "2 -0.806252 -0.147864  0.182833  ...   -0.730676 -0.171064 -0.38494   \n",
       "3  0.059314  1.334712  1.745278  ...   -0.730676 -0.171064 -0.38494   \n",
       "4  0.534139  1.527447  1.767959  ...   -0.730676 -0.171064 -0.38494   \n",
       "\n",
       "   Total_bili       INR  output_total  output_4hourly  last_input  \\\n",
       "0    3.417208  0.302317      0.074017        0.612008   -1.227250   \n",
       "1    1.549167 -0.961687      0.182853        0.590004    0.287835   \n",
       "2    1.549167 -0.245226      0.248674        0.531440    0.423093   \n",
       "3    1.549167 -0.961687      0.294020        0.480217    0.423093   \n",
       "4    1.549167 -0.961687      0.328069        0.438177    0.423093   \n",
       "\n",
       "   total_input_before  last_vaso_dose  \n",
       "0           -1.967244            -0.5  \n",
       "1            0.627278            -0.5  \n",
       "2            0.629135            -0.5  \n",
       "3            0.630978            -0.5  \n",
       "4            0.632806            -0.5  \n",
       "\n",
       "[5 rows x 47 columns]"
      ]
     },
     "execution_count": 57,
     "metadata": {},
     "output_type": "execute_result"
    }
   ],
   "source": [
    "MIMICraw = pd.read_csv(exportdir + 'MIMICraw-logistic_reg.csv')\n",
    "MIMICraw.head()"
   ]
  },
  {
   "cell_type": "code",
   "execution_count": 5,
   "metadata": {},
   "outputs": [
    {
     "data": {
      "text/html": [
       "<div>\n",
       "<style scoped>\n",
       "    .dataframe tbody tr th:only-of-type {\n",
       "        vertical-align: middle;\n",
       "    }\n",
       "\n",
       "    .dataframe tbody tr th {\n",
       "        vertical-align: top;\n",
       "    }\n",
       "\n",
       "    .dataframe thead th {\n",
       "        text-align: right;\n",
       "    }\n",
       "</style>\n",
       "<table border=\"1\" class=\"dataframe\">\n",
       "  <thead>\n",
       "    <tr style=\"text-align: right;\">\n",
       "      <th></th>\n",
       "      <th>bloc</th>\n",
       "      <th>icustay_id</th>\n",
       "      <th>charttime</th>\n",
       "      <th>gender</th>\n",
       "      <th>age</th>\n",
       "      <th>elixhauser</th>\n",
       "      <th>re_admission</th>\n",
       "      <th>died_in_hosp</th>\n",
       "      <th>died_within_48h_of_out_time</th>\n",
       "      <th>mortality_90d</th>\n",
       "      <th>...</th>\n",
       "      <th>mechvent</th>\n",
       "      <th>Shock_Index</th>\n",
       "      <th>PaO2_FiO2</th>\n",
       "      <th>median_dose_vaso</th>\n",
       "      <th>max_dose_vaso</th>\n",
       "      <th>input_total</th>\n",
       "      <th>input_4hourly</th>\n",
       "      <th>output_total</th>\n",
       "      <th>output_4hourly</th>\n",
       "      <th>cumulated_balance</th>\n",
       "    </tr>\n",
       "  </thead>\n",
       "  <tbody>\n",
       "    <tr>\n",
       "      <th>0</th>\n",
       "      <td>1.0</td>\n",
       "      <td>3.0</td>\n",
       "      <td>7.245400e+09</td>\n",
       "      <td>0.0</td>\n",
       "      <td>17639.826435</td>\n",
       "      <td>0.0</td>\n",
       "      <td>0.0</td>\n",
       "      <td>0.0</td>\n",
       "      <td>0.0</td>\n",
       "      <td>1.0</td>\n",
       "      <td>...</td>\n",
       "      <td>0.0</td>\n",
       "      <td>0.653782</td>\n",
       "      <td>222.499997</td>\n",
       "      <td>0.0</td>\n",
       "      <td>0.0</td>\n",
       "      <td>6297.0</td>\n",
       "      <td>30.0</td>\n",
       "      <td>9090.0</td>\n",
       "      <td>4305.0</td>\n",
       "      <td>-2793.0</td>\n",
       "    </tr>\n",
       "    <tr>\n",
       "      <th>1</th>\n",
       "      <td>2.0</td>\n",
       "      <td>3.0</td>\n",
       "      <td>7.245414e+09</td>\n",
       "      <td>0.0</td>\n",
       "      <td>17639.826435</td>\n",
       "      <td>0.0</td>\n",
       "      <td>0.0</td>\n",
       "      <td>0.0</td>\n",
       "      <td>0.0</td>\n",
       "      <td>1.0</td>\n",
       "      <td>...</td>\n",
       "      <td>0.0</td>\n",
       "      <td>0.710438</td>\n",
       "      <td>207.499997</td>\n",
       "      <td>0.0</td>\n",
       "      <td>0.0</td>\n",
       "      <td>6347.0</td>\n",
       "      <td>50.0</td>\n",
       "      <td>13060.0</td>\n",
       "      <td>3970.0</td>\n",
       "      <td>-6713.0</td>\n",
       "    </tr>\n",
       "    <tr>\n",
       "      <th>2</th>\n",
       "      <td>3.0</td>\n",
       "      <td>3.0</td>\n",
       "      <td>7.245428e+09</td>\n",
       "      <td>0.0</td>\n",
       "      <td>17639.826435</td>\n",
       "      <td>0.0</td>\n",
       "      <td>0.0</td>\n",
       "      <td>0.0</td>\n",
       "      <td>0.0</td>\n",
       "      <td>1.0</td>\n",
       "      <td>...</td>\n",
       "      <td>0.0</td>\n",
       "      <td>0.748397</td>\n",
       "      <td>207.499997</td>\n",
       "      <td>0.0</td>\n",
       "      <td>0.0</td>\n",
       "      <td>6397.0</td>\n",
       "      <td>50.0</td>\n",
       "      <td>16260.0</td>\n",
       "      <td>3200.0</td>\n",
       "      <td>-9863.0</td>\n",
       "    </tr>\n",
       "    <tr>\n",
       "      <th>3</th>\n",
       "      <td>4.0</td>\n",
       "      <td>3.0</td>\n",
       "      <td>7.245443e+09</td>\n",
       "      <td>0.0</td>\n",
       "      <td>17639.826435</td>\n",
       "      <td>0.0</td>\n",
       "      <td>0.0</td>\n",
       "      <td>0.0</td>\n",
       "      <td>0.0</td>\n",
       "      <td>1.0</td>\n",
       "      <td>...</td>\n",
       "      <td>0.0</td>\n",
       "      <td>0.615226</td>\n",
       "      <td>207.499997</td>\n",
       "      <td>0.0</td>\n",
       "      <td>0.0</td>\n",
       "      <td>6447.0</td>\n",
       "      <td>50.0</td>\n",
       "      <td>18910.0</td>\n",
       "      <td>2650.0</td>\n",
       "      <td>-12463.0</td>\n",
       "    </tr>\n",
       "    <tr>\n",
       "      <th>4</th>\n",
       "      <td>5.0</td>\n",
       "      <td>3.0</td>\n",
       "      <td>7.245457e+09</td>\n",
       "      <td>0.0</td>\n",
       "      <td>17639.826435</td>\n",
       "      <td>0.0</td>\n",
       "      <td>0.0</td>\n",
       "      <td>0.0</td>\n",
       "      <td>0.0</td>\n",
       "      <td>1.0</td>\n",
       "      <td>...</td>\n",
       "      <td>0.0</td>\n",
       "      <td>0.749047</td>\n",
       "      <td>165.573772</td>\n",
       "      <td>0.0</td>\n",
       "      <td>0.0</td>\n",
       "      <td>6477.0</td>\n",
       "      <td>30.0</td>\n",
       "      <td>21180.0</td>\n",
       "      <td>2270.0</td>\n",
       "      <td>-14703.0</td>\n",
       "    </tr>\n",
       "  </tbody>\n",
       "</table>\n",
       "<p>5 rows × 59 columns</p>\n",
       "</div>"
      ],
      "text/plain": [
       "   bloc  icustay_id     charttime  gender           age  elixhauser  \\\n",
       "0   1.0         3.0  7.245400e+09     0.0  17639.826435         0.0   \n",
       "1   2.0         3.0  7.245414e+09     0.0  17639.826435         0.0   \n",
       "2   3.0         3.0  7.245428e+09     0.0  17639.826435         0.0   \n",
       "3   4.0         3.0  7.245443e+09     0.0  17639.826435         0.0   \n",
       "4   5.0         3.0  7.245457e+09     0.0  17639.826435         0.0   \n",
       "\n",
       "   re_admission  died_in_hosp  died_within_48h_of_out_time  mortality_90d  \\\n",
       "0           0.0           0.0                          0.0            1.0   \n",
       "1           0.0           0.0                          0.0            1.0   \n",
       "2           0.0           0.0                          0.0            1.0   \n",
       "3           0.0           0.0                          0.0            1.0   \n",
       "4           0.0           0.0                          0.0            1.0   \n",
       "\n",
       "   ...  mechvent  Shock_Index   PaO2_FiO2  median_dose_vaso  max_dose_vaso  \\\n",
       "0  ...       0.0     0.653782  222.499997               0.0            0.0   \n",
       "1  ...       0.0     0.710438  207.499997               0.0            0.0   \n",
       "2  ...       0.0     0.748397  207.499997               0.0            0.0   \n",
       "3  ...       0.0     0.615226  207.499997               0.0            0.0   \n",
       "4  ...       0.0     0.749047  165.573772               0.0            0.0   \n",
       "\n",
       "   input_total  input_4hourly  output_total  output_4hourly  cumulated_balance  \n",
       "0       6297.0           30.0        9090.0          4305.0            -2793.0  \n",
       "1       6347.0           50.0       13060.0          3970.0            -6713.0  \n",
       "2       6397.0           50.0       16260.0          3200.0            -9863.0  \n",
       "3       6447.0           50.0       18910.0          2650.0           -12463.0  \n",
       "4       6477.0           30.0       21180.0          2270.0           -14703.0  \n",
       "\n",
       "[5 rows x 59 columns]"
      ]
     },
     "execution_count": 5,
     "metadata": {},
     "output_type": "execute_result"
    }
   ],
   "source": [
    "MIMICtable = pd.read_csv(exportdir + 'MIMICtable.csv')\n",
    "MIMICtable.head()"
   ]
  },
  {
   "cell_type": "markdown",
   "metadata": {},
   "source": [
    "## Create Actions"
   ]
  },
  {
   "cell_type": "code",
   "execution_count": 6,
   "metadata": {},
   "outputs": [],
   "source": [
    "from sklearn.cluster import KMeans\n",
    "from scipy.stats import rankdata\n",
    "\n",
    "logging.info('Creating action bins')\n",
    "nact = nra**2\n",
    "input_4hourly_nonzero = MIMICtable.loc[MIMICtable['input_4hourly']>0, 'input_4hourly']\n",
    "iol_ranked = rankdata(input_4hourly_nonzero)/len(input_4hourly_nonzero) # excludes zero fluid (will be action 1)\n",
    "iof = np.floor((iol_ranked + 0.2499999999)*4) # converts iv volume in 4 actions\n",
    "io = np.ones(len(MIMICtable)) # array of ones, by default\n",
    "io[MIMICtable['input_4hourly']>0] = iof + 1 # where more than zero fluid given: save actual action\n",
    "vc = MIMICtable['max_dose_vaso'].copy()\n",
    "vc_nonzero = MIMICtable.loc[MIMICtable['max_dose_vaso']!=0, 'max_dose_vaso']\n",
    "vc_ranked = rankdata(vc_nonzero)/len(vc_nonzero)\n",
    "vcf = np.floor((vc_ranked + 0.2499999999)*4) # converts to 4 bins\n",
    "vcf[vcf==0] = 1\n",
    "vc[vc!=0] = vcf + 1\n",
    "vc[vc==0] = 1\n",
    "# median dose of drug in all bins\n",
    "ma1 = [MIMICtable.loc[io==1, 'input_4hourly'].median(), MIMICtable.loc[io==2, 'input_4hourly'].median(), MIMICtable.loc[io==3, 'input_4hourly'].median(), MIMICtable.loc[io==4, 'input_4hourly'].median(), MIMICtable.loc[io==5, 'input_4hourly'].median()]\n",
    "ma2 = [MIMICtable.loc[vc==1, 'max_dose_vaso'].median(), MIMICtable.loc[vc==2, 'max_dose_vaso'].median(), MIMICtable.loc[vc==3, 'max_dose_vaso'].median(), MIMICtable.loc[vc==4, 'max_dose_vaso'].median(), MIMICtable.loc[vc==5, 'max_dose_vaso'].median()]\n",
    "med = pd.DataFrame(data={'IV':io, 'VC': vc})\n",
    "med = med.astype({'IV': 'int32', 'VC': 'int32'})\n",
    "uniqueValues = med.drop_duplicates().reset_index(drop=True)\n",
    "uniqueValueDoses = pd.DataFrame()\n",
    "for index, row in uniqueValues.iterrows():\n",
    "    uniqueValueDoses.at[index, 'IV'], uniqueValueDoses.at[index, 'VC'] = ma1[row['IV']-1], ma2[row['VC']-1]\n",
    "\n",
    "actionbloc = pd.DataFrame()\n",
    "for index, row in med.iterrows():\n",
    "    actionbloc.at[index, 'action_bloc'] = uniqueValues.loc[(uniqueValues['IV'] == row['IV']) & (uniqueValues['VC'] == row['VC'])].index.values[0]\n",
    "actionbloc = actionbloc.astype({'action_bloc':'int32'})\n",
    "\n",
    "logging.info('Action bins created')"
   ]
  },
  {
   "cell_type": "markdown",
   "metadata": {},
   "source": [
    "## Create Training and Test data"
   ]
  },
  {
   "cell_type": "code",
   "execution_count": 62,
   "metadata": {},
   "outputs": [],
   "source": [
    "icuuniqueids = MIMICtable['icustay_id'].unique()\n",
    "grp = np.floor(5*np.random.rand(len(icuuniqueids))+1)\n",
    "crossval = 1\n",
    "trainidx = icuuniqueids[grp != crossval]\n",
    "testidx = icuuniqueids[grp == crossval]\n",
    "X = MIMICraw.loc[MIMICtable['icustay_id'].isin(trainidx)]\n",
    "Xtestmimic = MIMICraw[MIMICtable['icustay_id'].isin(testidx)]\n",
    "blocs = MIMICtable.loc[MIMICtable['icustay_id'].isin(trainidx), 'bloc']\n",
    "bloctestmimic = MIMICtable.loc[MIMICtable['icustay_id'].isin(testidx), 'bloc']\n",
    "ptid = MIMICtable.loc[MIMICtable['icustay_id'].isin(trainidx), 'icustay_id']\n",
    "ptidtestmimic = MIMICtable.loc[MIMICtable['icustay_id'].isin(testidx), 'icustay_id']\n",
    "Y = actionbloc.loc[MIMICtable['icustay_id'].isin(trainidx), 'action_bloc']\n",
    "Ytest = actionbloc.loc[MIMICtable['icustay_id'].isin(testidx), 'action_bloc']\n"
   ]
  },
  {
   "cell_type": "markdown",
   "metadata": {},
   "source": [
    "## Define the Neural Network Architecture"
   ]
  },
  {
   "cell_type": "code",
   "execution_count": 63,
   "metadata": {},
   "outputs": [],
   "source": [
    "import torch\n",
    "import torchvision\n",
    "import torchvision.transforms as transforms\n",
    "\n",
    "import torch.nn as nn\n",
    "import torch.nn.functional as F\n",
    "import torch.optim as optim\n",
    "\n",
    "class Mnist_Logistic(nn.Module):\n",
    "    def __init__(self):\n",
    "        super().__init__()\n",
    "        self.lin1 = nn.Linear(47, 50)\n",
    "        self.lin2 = nn.Linear(50, 50)\n",
    "        self.lin3 = nn.Linear(50, nact)\n",
    "\n",
    "    def forward(self, xb):\n",
    "        xb = F.leaky_relu(self.lin1(xb))\n",
    "        xb = F.leaky_relu(self.lin2(xb))\n",
    "        xb = F.softmax(self.lin3(xb), dim=1)\n",
    "        return xb\n",
    "    \n",
    "\n",
    "loss_func = F.cross_entropy        "
   ]
  },
  {
   "cell_type": "code",
   "execution_count": 76,
   "metadata": {},
   "outputs": [],
   "source": [
    "def get_model():\n",
    "    model = Mnist_Logistic()\n",
    "    return model, optim.SGD(model.parameters(), lr=0.001)"
   ]
  },
  {
   "cell_type": "code",
   "execution_count": 65,
   "metadata": {},
   "outputs": [],
   "source": [
    "X, Y, Xtestmimic, Ytest = map(torch.tensor, (X.values, Y.values, Xtestmimic.values, Ytest.values))"
   ]
  },
  {
   "cell_type": "code",
   "execution_count": 74,
   "metadata": {},
   "outputs": [],
   "source": [
    "from torch.utils.data import DataLoader\n",
    "from torch.utils.data import TensorDataset\n",
    "\n",
    "train_ds = TensorDataset(X, Y)\n",
    "train_dl = DataLoader(train_ds, batch_size=32)\n",
    "\n",
    "test_ds = TensorDataset(Xtestmimic, Ytest)\n",
    "test_dl = DataLoader(test_ds, batch_size=32*2)\n"
   ]
  },
  {
   "cell_type": "markdown",
   "metadata": {},
   "source": [
    "## Training"
   ]
  },
  {
   "cell_type": "code",
   "execution_count": 75,
   "metadata": {},
   "outputs": [],
   "source": [
    "def accuracy(dataloader):\n",
    "    global model\n",
    "    matches = 0\n",
    "    for xb, yb in dataloader:\n",
    "        _, predicted = torch.max(model(xb.float()), 1)\n",
    "        matches += (predicted == yb).sum()\n",
    "    return (matches.float()/len(dataloader.dataset)).item()"
   ]
  },
  {
   "cell_type": "code",
   "execution_count": 68,
   "metadata": {},
   "outputs": [
    {
     "name": "stdout",
     "output_type": "stream",
     "text": [
      "tensor(2.3906, grad_fn=<NllLossBackward>)\n"
     ]
    }
   ],
   "source": [
    "model, opt = get_model()\n",
    "test_loss = []\n",
    "test_acc = []\n",
    "train_acc = []\n",
    "logging.info('Starting training')\n",
    "\n",
    "for epoch in range(1000):\n",
    "    logging.info('Epoch: ' + str(epoch))\n",
    "    model.train()\n",
    "    for xb, yb in train_dl:\n",
    "        pred = model(xb.float())\n",
    "        loss = loss_func(pred, yb.long())\n",
    "\n",
    "        loss.backward()\n",
    "        opt.step()\n",
    "        opt.zero_grad()\n",
    "    \n",
    "    model.eval()\n",
    "    with torch.no_grad():\n",
    "        valid_loss = sum(loss_func(model(xb.float()), yb.long()) for xb, yb in test_dl)\n",
    "        test_loss.append(valid_loss)\n",
    "        if epoch % 50 == 0:\n",
    "            test_acc.append(accuracy(test_dl))\n",
    "            train_acc.append(accuracy(train_dl))\n",
    "\n",
    "logging.info('Training finished')\n",
    "print(loss_func(model(xb.float()), yb.long()))"
   ]
  },
  {
   "cell_type": "code",
   "execution_count": 69,
   "metadata": {},
   "outputs": [
    {
     "data": {
      "image/png": "[encoded data removed]",
      "text/plain": [
       "<Figure size 432x288 with 1 Axes>"
      ]
     },
     "metadata": {
      "needs_background": "light"
     },
     "output_type": "display_data"
    }
   ],
   "source": [
    "import matplotlib.pyplot as plt\n",
    "\n",
    "plt.plot(test_loss)\n",
    "plt.xlabel('Epoch')\n",
    "plt.ylabel('Loss')\n",
    "plt.title('Test loss')\n",
    "plt.show()"
   ]
  },
  {
   "cell_type": "code",
   "execution_count": 70,
   "metadata": {},
   "outputs": [
    {
     "data": {
      "image/png": "[encoded data removed]",
      "text/plain": [
       "<Figure size 432x288 with 1 Axes>"
      ]
     },
     "metadata": {
      "needs_background": "light"
     },
     "output_type": "display_data"
    }
   ],
   "source": [
    "plt.plot(range(0,1000,50),test_acc)\n",
    "plt.xlabel('Epoch')\n",
    "plt.ylabel('Accuracy')\n",
    "plt.title('Test accuracy')\n",
    "plt.show()"
   ]
  },
  {
   "cell_type": "code",
   "execution_count": 71,
   "metadata": {},
   "outputs": [
    {
     "data": {
      "image/png": "[encoded data removed]",
      "text/plain": [
       "<Figure size 432x288 with 1 Axes>"
      ]
     },
     "metadata": {
      "needs_background": "light"
     },
     "output_type": "display_data"
    }
   ],
   "source": [
    "plt.plot(range(0,1000,50), train_acc)\n",
    "plt.xlabel('Epoch')\n",
    "plt.ylabel('Accuracy')\n",
    "plt.title('Training accuracy')\n",
    "plt.show()"
   ]
  },
  {
   "cell_type": "markdown",
   "metadata": {},
   "source": [
    "## Neural Net - Architecture 2"
   ]
  },
  {
   "cell_type": "code",
   "execution_count": 87,
   "metadata": {},
   "outputs": [],
   "source": [
    "class Mnist_Logistic2(nn.Module):\n",
    "    def __init__(self):\n",
    "        super().__init__()\n",
    "        self.lin1 = nn.Linear(47, 40)\n",
    "        self.lin2 = nn.Linear(40, nact)\n",
    "\n",
    "    def forward(self, xb):\n",
    "        xb = F.leaky_relu(self.lin1(xb))\n",
    "        xb = F.softmax(self.lin2(xb), dim=1)\n",
    "        return xb"
   ]
  },
  {
   "cell_type": "code",
   "execution_count": 88,
   "metadata": {},
   "outputs": [],
   "source": [
    "def get_model2():\n",
    "    model = Mnist_Logistic2()\n",
    "    return model, optim.SGD(model.parameters(), lr=0.001)"
   ]
  },
  {
   "cell_type": "code",
   "execution_count": 81,
   "metadata": {},
   "outputs": [
    {
     "name": "stdout",
     "output_type": "stream",
     "text": [
      "tensor(2.3901, grad_fn=<NllLossBackward>)\n"
     ]
    }
   ],
   "source": [
    "model, opt = get_model2()\n",
    "test_loss = []\n",
    "test_acc = []\n",
    "train_acc = []\n",
    "logging.info('Starting training - model 2')\n",
    "\n",
    "for epoch in range(1000):\n",
    "    logging.info('Epoch: ' + str(epoch))\n",
    "    model.train()\n",
    "    for xb, yb in train_dl:\n",
    "        pred = model(xb.float())\n",
    "        loss = loss_func(pred, yb.long())\n",
    "\n",
    "        loss.backward()\n",
    "        opt.step()\n",
    "        opt.zero_grad()\n",
    "    \n",
    "    model.eval()\n",
    "    with torch.no_grad():\n",
    "        valid_loss = sum(loss_func(model(xb.float()), yb.long()) for xb, yb in test_dl)\n",
    "        test_loss.append(valid_loss)\n",
    "        if epoch % 50 == 0:\n",
    "            test_acc.append(accuracy(test_dl))\n",
    "            train_acc.append(accuracy(train_dl))\n",
    "\n",
    "logging.info('Training finished')\n",
    "print(loss_func(model(xb.float()), yb.long()))\n"
   ]
  },
  {
   "cell_type": "code",
   "execution_count": 82,
   "metadata": {},
   "outputs": [
    {
     "data": {
      "image/png": "[encoded data removed]",
      "text/plain": [
       "<Figure size 432x288 with 1 Axes>"
      ]
     },
     "metadata": {
      "needs_background": "light"
     },
     "output_type": "display_data"
    }
   ],
   "source": [
    "import matplotlib.pyplot as plt\n",
    "\n",
    "plt.plot(test_loss)\n",
    "plt.xlabel('Epoch')\n",
    "plt.ylabel('Loss')\n",
    "plt.title('Test loss')\n",
    "plt.show()"
   ]
  },
  {
   "cell_type": "code",
   "execution_count": 83,
   "metadata": {},
   "outputs": [
    {
     "data": {
      "image/png": "[encoded data removed]",
      "text/plain": [
       "<Figure size 432x288 with 1 Axes>"
      ]
     },
     "metadata": {
      "needs_background": "light"
     },
     "output_type": "display_data"
    }
   ],
   "source": [
    "plt.plot(range(0,1000,50),test_acc)\n",
    "plt.xlabel('Epoch')\n",
    "plt.ylabel('Accuracy')\n",
    "plt.title('Test accuracy')\n",
    "plt.show()"
   ]
  },
  {
   "cell_type": "code",
   "execution_count": 85,
   "metadata": {},
   "outputs": [
    {
     "data": {
      "image/png": "[encoded data removed]",
      "text/plain": [
       "<Figure size 432x288 with 1 Axes>"
      ]
     },
     "metadata": {
      "needs_background": "light"
     },
     "output_type": "display_data"
    }
   ],
   "source": [
    "plt.plot(range(0,1000,50), train_acc)\n",
    "plt.xlabel('Epoch')\n",
    "plt.ylabel('Accuracy')\n",
    "plt.title('Training accuracy')\n",
    "plt.show()"
   ]
  },
  {
   "cell_type": "markdown",
   "metadata": {},
   "source": [
    "## Neural Net - Architecture 3"
   ]
  },
  {
   "cell_type": "code",
   "execution_count": 86,
   "metadata": {},
   "outputs": [],
   "source": [
    "class Mnist_Logistic3(nn.Module):\n",
    "    def __init__(self):\n",
    "        super().__init__()\n",
    "        self.lin1 = nn.Linear(47, 50)\n",
    "        self.lin2 = nn.Linear(50, 50)\n",
    "        self.lin3 = nn.Linear(50, 50)\n",
    "        self.lin4 = nn.Linear(50, nact)\n",
    "\n",
    "\n",
    "    def forward(self, xb):\n",
    "        xb = F.leaky_relu(self.lin1(xb))\n",
    "        xb = F.leaky_relu(self.lin2(xb))\n",
    "        xb = F.leaky_relu(self.lin3(xb))\n",
    "        xb = F.softmax(self.lin4(xb), dim=1)\n",
    "        return xb"
   ]
  },
  {
   "cell_type": "code",
   "execution_count": 89,
   "metadata": {},
   "outputs": [],
   "source": [
    "def get_model3():\n",
    "    model = Mnist_Logistic3()\n",
    "    return model, optim.SGD(model.parameters(), lr=0.001)"
   ]
  },
  {
   "cell_type": "code",
   "execution_count": null,
   "metadata": {},
   "outputs": [],
   "source": [
    "model, opt = get_model3()\n",
    "test_loss = []\n",
    "test_acc = []\n",
    "train_acc = []\n",
    "logging.info('Starting training - model 3')\n",
    "\n",
    "for epoch in range(1000):\n",
    "    logging.info('Epoch: ' + str(epoch))\n",
    "    model.train()\n",
    "    for xb, yb in train_dl:\n",
    "        pred = model(xb.float())\n",
    "        loss = loss_func(pred, yb.long())\n",
    "\n",
    "        loss.backward()\n",
    "        opt.step()\n",
    "        opt.zero_grad()\n",
    "    \n",
    "    model.eval()\n",
    "    with torch.no_grad():\n",
    "        valid_loss = sum(loss_func(model(xb.float()), yb.long()) for xb, yb in test_dl)\n",
    "        test_loss.append(valid_loss)\n",
    "        if epoch % 50 == 0:\n",
    "            test_acc.append(accuracy(test_dl))\n",
    "            train_acc.append(accuracy(train_dl))\n",
    "\n",
    "logging.info('Training finished')\n",
    "print(loss_func(model(xb.float()), yb.long()))"
   ]
  },
  {
   "cell_type": "code",
   "execution_count": 94,
   "metadata": {},
   "outputs": [
    {
     "data": {
      "image/png": "[encoded data removed]",
      "text/plain": [
       "<Figure size 432x288 with 1 Axes>"
      ]
     },
     "metadata": {
      "needs_background": "light"
     },
     "output_type": "display_data"
    }
   ],
   "source": [
    "import matplotlib.pyplot as plt\n",
    "\n",
    "plt.plot(test_loss)\n",
    "plt.xlabel('Epoch')\n",
    "plt.ylabel('Loss')\n",
    "plt.title('Test loss')\n",
    "plt.show()"
   ]
  },
  {
   "cell_type": "code",
   "execution_count": 95,
   "metadata": {},
   "outputs": [
    {
     "data": {
      "image/png": "[encoded data removed]",
      "text/plain": [
       "<Figure size 432x288 with 1 Axes>"
      ]
     },
     "metadata": {
      "needs_background": "light"
     },
     "output_type": "display_data"
    }
   ],
   "source": [
    "plt.plot(range(0,1000,50),test_acc)\n",
    "plt.xlabel('Epoch')\n",
    "plt.ylabel('Accuracy')\n",
    "plt.title('Test accuracy')\n",
    "plt.show()"
   ]
  },
  {
   "cell_type": "code",
   "execution_count": 96,
   "metadata": {},
   "outputs": [
    {
     "data": {
      "image/png": "[encoded data removed]",
      "text/plain": [
       "<Figure size 432x288 with 1 Axes>"
      ]
     },
     "metadata": {
      "needs_background": "light"
     },
     "output_type": "display_data"
    }
   ],
   "source": [
    "plt.plot(range(0,1000,50), train_acc)\n",
    "plt.xlabel('Epoch')\n",
    "plt.ylabel('Accuracy')\n",
    "plt.title('Training accuracy')\n",
    "plt.show()"
   ]
  }
 ],
 "metadata": {
  "kernelspec": {
   "display_name": "Python 3",
   "language": "python",
   "name": "python3"
  },
  "language_info": {
   "codemirror_mode": {
    "name": "ipython",
    "version": 3
   },
   "file_extension": ".py",
   "mimetype": "text/x-python",
   "name": "python",
   "nbconvert_exporter": "python",
   "pygments_lexer": "ipython3",
   "version": "3.8.6"
  }
 },
 "nbformat": 4,
 "nbformat_minor": 2
}
