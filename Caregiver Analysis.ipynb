{
 "cells": [
  {
   "cell_type": "markdown",
   "metadata": {},
   "source": [
    "# Ranking Caregivers\n",
    "\n",
    "In this note, we score caregivers' performance based on the survival of the patients they were involved in treating.   \n",
    "**Assumption:** The patients are assigned to each caregiver randomly, and so there is no confounding.   \n",
    "**Score Computation**: For a patient, say $pt$, we have access to the fluids and vasopressors administered at each time point and caregiver who administered the drugs. Let's say the data is as follows:  \n",
    "\n",
    "| pt_id | timestp | cgid |\n",
    "| --- | --- | --- |\n",
    "| pt1 | $t_1$ | 1 |\n",
    "| pt1 | $t_2$ | 2 |\n",
    "| pt1 | $t_3$ | 2 |\n",
    "| pt2 | $t_4$ | 1 |\n",
    "| pt2 | $t_5$ | 1 |\n",
    "| pt2 | $t_6$ | 3 |\n",
    "\n",
    "Here pt_id corresponds to patient id and cgid corresponds to Caregiver id.  \n",
    "If the patient $pt$ survived (/died), we will assign a score of 1 (/0) for each decision point to each caregiver, and average the scores to get a final score for each caregiver.  \n",
    "In the above example, if $pt1$ survives and $pt2$ dies, the scores we get are:  \n",
    "\n",
    "| cgid | score \n",
    "| --- | --- |\n",
    "| 1 | 1/3 |\n",
    "| 2 | 1 |\n",
    "| 3 | 0 |\n"
   ]
  },
  {
   "cell_type": "code",
   "execution_count": 1,
   "metadata": {},
   "outputs": [],
   "source": [
    "import pandas as pd\n",
    "\n",
    "exportdir = '/Users/faaiz/exportdir-cg'"
   ]
  },
  {
   "cell_type": "code",
   "execution_count": 4,
   "metadata": {},
   "outputs": [],
   "source": [
    "sepsis = pd.read_csv(exportdir + '/sepsis.csv')\n",
    "inputMV = pd.read_csv(exportdir + '/fluid_mv.csv', sep='|')\n",
    "inputCV = pd.read_csv(exportdir + '/fluid_cv.csv', sep='|')\n",
    "vasoMV = pd.read_csv(exportdir + '/vaso_mv.csv', sep='|')\n",
    "vasoCV = pd.read_csv(exportdir + '/vaso_cv.csv', sep='|')"
   ]
  },
  {
   "cell_type": "code",
   "execution_count": 5,
   "metadata": {},
   "outputs": [],
   "source": [
    "def sepsis_onset(icustayid):\n",
    "    global sepsis\n",
    "    return sepsis.loc[sepsis['icustayid'] == icustayid-200000,'sepsis_time'].values[0]"
   ]
  },
  {
   "cell_type": "code",
   "execution_count": 6,
   "metadata": {},
   "outputs": [],
   "source": [
    "def morta_90d(icustayid):\n",
    "    global sepsis\n",
    "    return sepsis.loc[sepsis['icustayid'] == icustayid-200000,'morta_90d'].values[0]"
   ]
  },
  {
   "cell_type": "code",
   "execution_count": 7,
   "metadata": {},
   "outputs": [
    {
     "data": {
      "text/html": [
       "<div>\n",
       "<style scoped>\n",
       "    .dataframe tbody tr th:only-of-type {\n",
       "        vertical-align: middle;\n",
       "    }\n",
       "\n",
       "    .dataframe tbody tr th {\n",
       "        vertical-align: top;\n",
       "    }\n",
       "\n",
       "    .dataframe thead th {\n",
       "        text-align: right;\n",
       "    }\n",
       "</style>\n",
       "<table border=\"1\" class=\"dataframe\">\n",
       "  <thead>\n",
       "    <tr style=\"text-align: right;\">\n",
       "      <th></th>\n",
       "      <th>icustay_id</th>\n",
       "      <th>cgid</th>\n",
       "      <th>starttime</th>\n",
       "    </tr>\n",
       "  </thead>\n",
       "  <tbody>\n",
       "    <tr>\n",
       "      <th>0</th>\n",
       "      <td>201204</td>\n",
       "      <td>15928</td>\n",
       "      <td>4.794584e+09</td>\n",
       "    </tr>\n",
       "    <tr>\n",
       "      <th>1</th>\n",
       "      <td>201204</td>\n",
       "      <td>15928</td>\n",
       "      <td>4.794600e+09</td>\n",
       "    </tr>\n",
       "    <tr>\n",
       "      <th>2</th>\n",
       "      <td>201204</td>\n",
       "      <td>15928</td>\n",
       "      <td>4.794603e+09</td>\n",
       "    </tr>\n",
       "    <tr>\n",
       "      <th>3</th>\n",
       "      <td>201204</td>\n",
       "      <td>15928</td>\n",
       "      <td>4.794605e+09</td>\n",
       "    </tr>\n",
       "    <tr>\n",
       "      <th>4</th>\n",
       "      <td>201204</td>\n",
       "      <td>18579</td>\n",
       "      <td>4.794624e+09</td>\n",
       "    </tr>\n",
       "  </tbody>\n",
       "</table>\n",
       "</div>"
      ],
      "text/plain": [
       "   icustay_id   cgid     starttime\n",
       "0      201204  15928  4.794584e+09\n",
       "1      201204  15928  4.794600e+09\n",
       "2      201204  15928  4.794603e+09\n",
       "3      201204  15928  4.794605e+09\n",
       "4      201204  18579  4.794624e+09"
      ]
     },
     "execution_count": 7,
     "metadata": {},
     "output_type": "execute_result"
    }
   ],
   "source": [
    "caregiver_info = pd.DataFrame()\n",
    "\n",
    "caregiver_info = pd.concat([inputMV[['icustay_id', 'cgid', 'starttime']],\\\n",
    "                       inputCV[['icustay_id', 'cgid', 'charttime']].copy().rename(columns = {'charttime': 'starttime'}, inplace = True),\\\n",
    "                       vasoCV[['icustay_id', 'cgid', 'charttime']].copy().rename(columns = {'charttime': 'starttime'}, inplace = True),\\\n",
    "                       vasoMV[['icustay_id', 'cgid', 'starttime']]],\\\n",
    "                      ignore_index = True)\n",
    "caregiver_info = caregiver_info.loc[(caregiver_info['icustay_id'].isin(sepsis['icustayid'] + 200000))]\n",
    "# Do we want to exclude all Fluid and vasopressor inputs before sepsis onset?\n",
    "# caregiver_info = caregiver_info.loc[(caregiver_info['icustay_id'].map(sepsis_onset) <= caregiver_info['starttime'])]\n",
    "caregiver_info.head()"
   ]
  },
  {
   "cell_type": "code",
   "execution_count": 8,
   "metadata": {},
   "outputs": [
    {
     "data": {
      "text/html": [
       "<div>\n",
       "<style scoped>\n",
       "    .dataframe tbody tr th:only-of-type {\n",
       "        vertical-align: middle;\n",
       "    }\n",
       "\n",
       "    .dataframe tbody tr th {\n",
       "        vertical-align: top;\n",
       "    }\n",
       "\n",
       "    .dataframe thead th {\n",
       "        text-align: right;\n",
       "    }\n",
       "</style>\n",
       "<table border=\"1\" class=\"dataframe\">\n",
       "  <thead>\n",
       "    <tr style=\"text-align: right;\">\n",
       "      <th></th>\n",
       "      <th>icustay_id</th>\n",
       "      <th>cgid</th>\n",
       "      <th>starttime</th>\n",
       "      <th>morta_90d</th>\n",
       "    </tr>\n",
       "  </thead>\n",
       "  <tbody>\n",
       "    <tr>\n",
       "      <th>0</th>\n",
       "      <td>201204</td>\n",
       "      <td>15928</td>\n",
       "      <td>4.794584e+09</td>\n",
       "      <td>1.0</td>\n",
       "    </tr>\n",
       "    <tr>\n",
       "      <th>1</th>\n",
       "      <td>201204</td>\n",
       "      <td>15928</td>\n",
       "      <td>4.794600e+09</td>\n",
       "      <td>1.0</td>\n",
       "    </tr>\n",
       "    <tr>\n",
       "      <th>2</th>\n",
       "      <td>201204</td>\n",
       "      <td>15928</td>\n",
       "      <td>4.794603e+09</td>\n",
       "      <td>1.0</td>\n",
       "    </tr>\n",
       "    <tr>\n",
       "      <th>3</th>\n",
       "      <td>201204</td>\n",
       "      <td>15928</td>\n",
       "      <td>4.794605e+09</td>\n",
       "      <td>1.0</td>\n",
       "    </tr>\n",
       "    <tr>\n",
       "      <th>4</th>\n",
       "      <td>201204</td>\n",
       "      <td>18579</td>\n",
       "      <td>4.794624e+09</td>\n",
       "      <td>1.0</td>\n",
       "    </tr>\n",
       "  </tbody>\n",
       "</table>\n",
       "</div>"
      ],
      "text/plain": [
       "   icustay_id   cgid     starttime  morta_90d\n",
       "0      201204  15928  4.794584e+09        1.0\n",
       "1      201204  15928  4.794600e+09        1.0\n",
       "2      201204  15928  4.794603e+09        1.0\n",
       "3      201204  15928  4.794605e+09        1.0\n",
       "4      201204  18579  4.794624e+09        1.0"
      ]
     },
     "execution_count": 8,
     "metadata": {},
     "output_type": "execute_result"
    }
   ],
   "source": [
    "caregiver_info['morta_90d'] = caregiver_info['icustay_id'].map(morta_90d)\n",
    "caregiver_info.head()"
   ]
  },
  {
   "cell_type": "code",
   "execution_count": 9,
   "metadata": {},
   "outputs": [
    {
     "data": {
      "text/html": [
       "<div>\n",
       "<style scoped>\n",
       "    .dataframe tbody tr th:only-of-type {\n",
       "        vertical-align: middle;\n",
       "    }\n",
       "\n",
       "    .dataframe tbody tr th {\n",
       "        vertical-align: top;\n",
       "    }\n",
       "\n",
       "    .dataframe thead th {\n",
       "        text-align: right;\n",
       "    }\n",
       "</style>\n",
       "<table border=\"1\" class=\"dataframe\">\n",
       "  <thead>\n",
       "    <tr style=\"text-align: right;\">\n",
       "      <th></th>\n",
       "      <th>score</th>\n",
       "    </tr>\n",
       "    <tr>\n",
       "      <th>cgid</th>\n",
       "      <th></th>\n",
       "    </tr>\n",
       "  </thead>\n",
       "  <tbody>\n",
       "    <tr>\n",
       "      <th>14023</th>\n",
       "      <td>1.0</td>\n",
       "    </tr>\n",
       "    <tr>\n",
       "      <th>17250</th>\n",
       "      <td>1.0</td>\n",
       "    </tr>\n",
       "    <tr>\n",
       "      <th>19079</th>\n",
       "      <td>1.0</td>\n",
       "    </tr>\n",
       "    <tr>\n",
       "      <th>20622</th>\n",
       "      <td>1.0</td>\n",
       "    </tr>\n",
       "    <tr>\n",
       "      <th>16326</th>\n",
       "      <td>1.0</td>\n",
       "    </tr>\n",
       "  </tbody>\n",
       "</table>\n",
       "</div>"
      ],
      "text/plain": [
       "       score\n",
       "cgid        \n",
       "14023    1.0\n",
       "17250    1.0\n",
       "19079    1.0\n",
       "20622    1.0\n",
       "16326    1.0"
      ]
     },
     "execution_count": 9,
     "metadata": {},
     "output_type": "execute_result"
    }
   ],
   "source": [
    "caregiver_score = caregiver_info[['cgid','morta_90d']].groupby('cgid').mean().rename(columns = {'morta_90d': 'score'}, inplace = False).sort_values(by='score', ascending=False)\n",
    "\n",
    "caregiver_score.head()"
   ]
  },
  {
   "cell_type": "code",
   "execution_count": 11,
   "metadata": {},
   "outputs": [
    {
     "data": {
      "image/png": "[encoded data removed]",
      "text/plain": [
       "<Figure size 432x288 with 1 Axes>"
      ]
     },
     "metadata": {
      "needs_background": "light"
     },
     "output_type": "display_data"
    }
   ],
   "source": [
    "import matplotlib.pyplot as plt\n",
    "caregiver_score.iloc[:20].plot(kind='bar')\n",
    "plt.show()"
   ]
  },
  {
   "cell_type": "code",
   "execution_count": null,
   "metadata": {},
   "outputs": [],
   "source": []
  }
 ],
 "metadata": {
  "kernelspec": {
   "display_name": "Python 3",
   "language": "python",
   "name": "python3"
  },
  "language_info": {
   "codemirror_mode": {
    "name": "ipython",
    "version": 3
   },
   "file_extension": ".py",
   "mimetype": "text/x-python",
   "name": "python",
   "nbconvert_exporter": "python",
   "pygments_lexer": "ipython3",
   "version": "3.8.0"
  }
 },
 "nbformat": 4,
 "nbformat_minor": 2
}
