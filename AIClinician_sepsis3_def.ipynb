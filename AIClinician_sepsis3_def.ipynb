{
 "cells": [
  {
   "cell_type": "markdown",
   "metadata": {},
   "source": [
    "PURPOSE:\n",
    "------------------------------\n",
    "This creates a list of icustayIDs of patients who develop sepsis at some point \n",
    "in the ICU. records charttime for onset of sepsis. Uses sepsis3 criteria\n",
    "\n",
    "STEPS:\n",
    "-------------------------------\n",
    "IMPORT DATA FROM CSV FILES  \n",
    "FLAG PRESUMED INFECTION  \n",
    "PREPROCESSING  \n",
    "REFORMAT in 4h time slots  \n",
    "COMPUTE SOFA at each time step  \n",
    "FLAG SEPSIS  \n",
    "\n",
    "note: the process generates the same features as the final MDP dataset, most of which are not used to compute SOFA"
   ]
  },
  {
   "cell_type": "markdown",
   "metadata": {},
   "source": [
    "# Import all data"
   ]
  },
  {
   "cell_type": "code",
   "execution_count": 257,
   "metadata": {},
   "outputs": [],
   "source": [
    "import pandas as pd\n",
    "abx = pd.read_csv('/Users/faaiz/exportdir/abx.csv', sep='|')\n",
    "culture = pd.read_csv('/Users/faaiz/exportdir/culture.csv', sep='|')\n",
    "microbio = pd.read_csv('/Users/faaiz/exportdir/microbio.csv', sep='|')\n",
    "demog = pd.read_csv('/Users/faaiz/exportdir/demog.csv', sep='|')\n",
    "ce010 = pd.read_csv('/Users/faaiz/exportdir/ce010000.csv', sep='|')\n",
    "ce1020 = pd.read_csv('/Users/faaiz/exportdir/ce1000020000.csv', sep='|')\n",
    "ce2030 = pd.read_csv('/Users/faaiz/exportdir/ce2000030000.csv', sep='|')\n",
    "ce3040 = pd.read_csv('/Users/faaiz/exportdir/ce3000040000.csv', sep='|')\n",
    "ce4050 = pd.read_csv('/Users/faaiz/exportdir/ce4000050000.csv', sep='|')\n",
    "ce5060 = pd.read_csv('/Users/faaiz/exportdir/ce5000060000.csv', sep='|')\n",
    "ce6070 = pd.read_csv('/Users/faaiz/exportdir/ce6000070000.csv', sep='|')\n",
    "ce7080 = pd.read_csv('/Users/faaiz/exportdir/ce7000080000.csv', sep='|')\n",
    "ce8090 = pd.read_csv('/Users/faaiz/exportdir/ce8000090000.csv', sep='|')\n",
    "ce90100 = pd.read_csv('/Users/faaiz/exportdir/ce90000100000.csv', sep='|')\n",
    "lab_ce = pd.read_csv('/Users/faaiz/exportdir/labs_ce.csv', sep='|').rename(columns = {'charttime': 'timestp'}, inplace = False)\n",
    "lab_le = pd.read_csv('/Users/faaiz/exportdir/labs_le.csv', sep='|')\n",
    "labU = pd.concat([lab_ce, lab_le], ignore_index = True)\n",
    "MV = pd.read_csv('/Users/faaiz/exportdir/mechvent.csv', sep='|')\n",
    "inputpreadm = pd.read_csv('/Users/faaiz/exportdir/preadm_fluid.csv', sep='|')\n",
    "inputMV = pd.read_csv('/Users/faaiz/exportdir/fluid_mv.csv', sep='|')\n",
    "inputCV = pd.read_csv('/Users/faaiz/exportdir/fluid_cv.csv', sep='|')\n",
    "vasoMV = pd.read_csv('/Users/faaiz/exportdir/vaso_mv.csv', sep='|')\n",
    "vasoCV = pd.read_csv('/Users/faaiz/exportdir/vaso_cv.csv', sep='|')\n",
    "UOpreadm = pd.read_csv('/Users/faaiz/exportdir/preadm_uo.csv', sep='|')\n",
    "UO = pd.read_csv('/Users/faaiz/exportdir/uo.csv', sep='|')\n",
    "\n",
    "reflabs = pd.read_csv('/Users/faaiz/exportdir/Reflabs.csv', header=None)\n",
    "refvitals = pd.read_csv('/Users/faaiz/exportdir/Refvitals.csv', header=None)\n",
    "sample_and_hold = pd.read_csv('/Users/faaiz/exportdir/sample_and_hold.csv')"
   ]
  },
  {
   "cell_type": "markdown",
   "metadata": {},
   "source": [
    "# Initial Data Manipulations"
   ]
  },
  {
   "cell_type": "code",
   "execution_count": 258,
   "metadata": {},
   "outputs": [],
   "source": [
    "# if charttime is empty but chartdate isn't\n",
    "microbio.loc[microbio['charttime'].isnull(), 'charttime'] = microbio['chartdate'] \n",
    "microbio = microbio.drop(columns = 'chartdate')\n",
    "bacterio = pd.concat([microbio, culture], ignore_index = True)"
   ]
  },
  {
   "cell_type": "code",
   "execution_count": 259,
   "metadata": {},
   "outputs": [],
   "source": [
    "demog['morta_90'] = demog['morta_90'].fillna(0)\n",
    "demog['morta_hosp'] = demog['morta_hosp'].fillna(0)\n",
    "demog['elixhauser'] = demog['elixhauser'].fillna(0)"
   ]
  },
  {
   "cell_type": "code",
   "execution_count": 260,
   "metadata": {},
   "outputs": [],
   "source": [
    "inputMV.head()\n",
    "inputMV['normrate'] = inputMV['rate']*inputMV['tev']/inputMV['amount']"
   ]
  },
  {
   "cell_type": "code",
   "execution_count": 261,
   "metadata": {},
   "outputs": [],
   "source": [
    "def find_icustay_id_from_demog(hadm_id, time, subject_id = None):\n",
    "    if subject_id is not None:\n",
    "        df = demog.loc[demog['subject_id'] == subject_id]\n",
    "    else:\n",
    "        df = demog.loc[demog['hadm_id'] == hadm_id]\n",
    "    for index, row in df.iterrows():\n",
    "        if (time >= row['intime'] - 48*3600 and time <= row['outtime'] + 48*3600) or len(df) == 1:\n",
    "            return row['icustay_id']\n",
    "    df2 = df.loc[df['hadm_id'] == hadm_id]\n",
    "    if len(df2) == 1:\n",
    "        return df2['icustay_id'].values[0]\n",
    "    return None"
   ]
  },
  {
   "cell_type": "code",
   "execution_count": 262,
   "metadata": {},
   "outputs": [
    {
     "data": {
      "text/plain": [
       "2003"
      ]
     },
     "execution_count": 262,
     "metadata": {},
     "output_type": "execute_result"
    }
   ],
   "source": [
    "# TODO: to be removed!\n",
    "len(bacterio)\n",
    "len(bacterio.loc[bacterio['icustay_id'].isnull()])"
   ]
  },
  {
   "cell_type": "code",
   "execution_count": 263,
   "metadata": {},
   "outputs": [],
   "source": [
    "bacterio.head()\n",
    "# Fill in missing ICUSTAY IDs in bacterio\n",
    "for index, row in bacterio.iterrows():\n",
    "    if pd.isna(row['icustay_id']):\n",
    "        charttime, hadm_id, subject_id = row['charttime'], row['hadm_id'], row['subject_id']\n",
    "        icustayid = find_icustay_id_from_demog(hadm_id, charttime, subject_id)\n",
    "        if icustayid is not None:\n",
    "            bacterio.at[index,'icustay_id'] = icustayid"
   ]
  },
  {
   "cell_type": "code",
   "execution_count": 264,
   "metadata": {},
   "outputs": [],
   "source": [
    "# Fill in missing ICUSTAY IDs in bacterio\n",
    "for index, row in abx.iterrows():\n",
    "    if pd.isna(row['icustay_id']):\n",
    "        time, hadm_id = row['startdate'], row['hadm_id']\n",
    "        icustayid = find_icustay_id_from_demog(hadm_id, time)\n",
    "        if icustayid is not None:\n",
    "            abx.at[index,'icustay_id'] = icustayid"
   ]
  },
  {
   "cell_type": "markdown",
   "metadata": {},
   "source": [
    "# Find presumed onset of infection according to sepsis3 guidelines"
   ]
  },
  {
   "cell_type": "code",
   "execution_count": 265,
   "metadata": {},
   "outputs": [],
   "source": [
    "from sklearn.metrics.pairwise import euclidean_distances\n",
    "\n",
    "onset = pd.DataFrame(columns=['subject_id', 'icustay_id', 'onsettime'])\n",
    "\n",
    "for icustayid in range(1,100001):\n",
    "    ab = pd.Series.to_numpy(abx.loc[abx['icustay_id'] == icustayid + 200000, 'startdate'])\n",
    "    bact = pd.Series.to_numpy(bacterio.loc[bacterio['icustay_id'] == icustayid + 200000, 'charttime'])\n",
    "    subj_bact = pd.Series.to_numpy(bacterio.loc[bacterio['icustay_id'] == icustayid + 200000, 'subject_id'])\n",
    "    \n",
    "    if len(ab) > 0 and len(bact) > 0:\n",
    "        D = euclidean_distances(ab.reshape(-1,1), bact.reshape(-1,1))/3600\n",
    "        for i in range(len(D)):\n",
    "            M = min(D[i])\n",
    "            I = D[i].argmin()\n",
    "            ab1 = ab[i]\n",
    "            bact1 = bact[I]\n",
    "            \n",
    "            if M <= 24 and ab1 <= bact1:\n",
    "                onset = onset.append({'subject_id': subj_bact[0], 'icustay_id': icustayid, 'onsettime': ab1}, ignore_index=True)\n",
    "                break\n",
    "            elif M <= 72 and ab1 >= bact1:\n",
    "                onset = onset.append({'subject_id': subj_bact[0], 'icustay_id': icustayid, 'onsettime': bact1}, ignore_index=True)\n",
    "                break\n",
    "        "
   ]
  },
  {
   "cell_type": "code",
   "execution_count": 266,
   "metadata": {},
   "outputs": [
    {
     "data": {
      "text/plain": [
       "65"
      ]
     },
     "execution_count": 266,
     "metadata": {},
     "output_type": "execute_result"
    }
   ],
   "source": [
    "len(onset.loc[onset['onsettime']>0])"
   ]
  },
  {
   "cell_type": "markdown",
   "metadata": {},
   "source": [
    "# Replacing item_ids with column numbers from reference tables"
   ]
  },
  {
   "cell_type": "code",
   "execution_count": 267,
   "metadata": {},
   "outputs": [],
   "source": [
    "def find_the_col_number(df, num):\n",
    "    for index, row in df.iterrows():\n",
    "        arr = pd.Series.to_numpy(row)\n",
    "        if num in arr:\n",
    "            return int(index+1)\n",
    "        \n",
    "def replace_itemids_with_col_num(df, reftable):\n",
    "    for index, row in df.iterrows():\n",
    "        df.at[index, 'colnum'] = find_the_col_number(reftable, row['itemid'])\n",
    "    df.drop(columns=['itemid'], inplace=True)"
   ]
  },
  {
   "cell_type": "code",
   "execution_count": 268,
   "metadata": {},
   "outputs": [],
   "source": [
    "replace_itemids_with_col_num(labU, reflabs)\n",
    "replace_itemids_with_col_num(ce010,refvitals)\n",
    "replace_itemids_with_col_num(ce1020,refvitals)\n",
    "replace_itemids_with_col_num(ce2030,refvitals)\n",
    "replace_itemids_with_col_num(ce3040,refvitals)\n",
    "replace_itemids_with_col_num(ce4050,refvitals)\n",
    "replace_itemids_with_col_num(ce5060,refvitals)\n",
    "replace_itemids_with_col_num(ce6070,refvitals)\n",
    "replace_itemids_with_col_num(ce7080,refvitals)\n",
    "replace_itemids_with_col_num(ce8090,refvitals)\n",
    "replace_itemids_with_col_num(ce90100,refvitals)"
   ]
  },
  {
   "cell_type": "markdown",
   "metadata": {},
   "source": [
    "# Initial reformat with chartevents, labs and mechvent\n",
    "\n",
    "gives an array with all unique charttime (1 per row) and all items in columns.\n",
    "## IMPORTANT \n",
    "Here i use -48 -> +24 because that's for sepsis3 cohort defintion!!  \n",
    "I need different time period for the MDP (-24 -> +48)"
   ]
  },
  {
   "cell_type": "code",
   "execution_count": 317,
   "metadata": {},
   "outputs": [],
   "source": [
    "winb4=49   #lower limit for inclusion of data (48h before time flag)\n",
    "winaft=25  # upper limit (24h after)\n",
    "irow = 0\n",
    "reformat, qstime = pd.DataFrame(), pd.DataFrame()\n",
    "\n",
    "for icustayid in range(1,100001):\n",
    "    qst = onset.loc[onset['icustay_id'] == icustayid, 'onsettime']\n",
    "    if len(qst) > 0 and qst.values[0] > 0:\n",
    "        d1 = demog.loc[demog['icustay_id'] == icustayid + 200000, ['age', 'dischtime']]\n",
    "        \n",
    "        if len(d1['age']) > 0 and d1['age'].values[0] > 6574:\n",
    "            if icustayid < 10000:\n",
    "                temp = ce010.loc[ce010['icustay_id'] == icustayid + 200000]\n",
    "            elif icustayid < 20000:\n",
    "                temp = ce1020.loc[ce1020['icustay_id'] == icustayid + 200000]\n",
    "            elif icustayid < 30000:\n",
    "                temp = ce2030.loc[ce2030['icustay_id'] == icustayid + 200000]\n",
    "            elif icustayid < 40000:\n",
    "                temp = ce3040.loc[ce3040['icustay_id'] == icustayid + 200000]\n",
    "            elif icustayid < 50000:\n",
    "                temp = ce4050.loc[ce4050['icustay_id'] == icustayid + 200000]\n",
    "            elif icustayid < 60000:\n",
    "                temp = ce5060.loc[ce5060['icustay_id'] == icustayid + 200000]\n",
    "            elif icustayid < 70000:\n",
    "                temp = ce6070.loc[ce6070['icustay_id'] == icustayid + 200000]\n",
    "            elif icustayid < 80000:\n",
    "                temp = ce7080.loc[ce7080['icustay_id'] == icustayid + 200000]\n",
    "            elif icustayid < 90000:\n",
    "                temp = ce8090.loc[ce8090['icustay_id'] == icustayid + 200000]\n",
    "            else:\n",
    "                temp = ce90100.loc[ce90100['icustay_id'] == icustayid + 200000]\n",
    "            \n",
    "            temp = temp.loc[temp['charttime'].between(qst.values[0]-(winb4+4)*3600,qst.values[0]+(winaft+4)*3600)] #time period of interest\n",
    "            \n",
    "            # LABEVENTS\n",
    "            temp2 = labU.loc[labU['icustay_id'] == icustayid + 200000]\n",
    "            temp2 = temp2.loc[temp2['timestp'].between(qst.values[0]-(winb4+4)*3600,qst.values[0]+(winaft+4)*3600)] #time period of interest\n",
    "            \n",
    "            #MECH VENT and Exubated\n",
    "            temp3 = MV.loc[MV['icustay_id'] == icustayid + 200000]\n",
    "            temp3 = temp3.loc[temp3['charttime'].between(qst.values[0]-(winb4+4)*3600, qst.values[0]+(winaft+4)*3600)] #time period of interest\n",
    "            \n",
    "            unique_timestp = pd.concat([temp['charttime'], temp2['timestp'].rename('charttime'), temp3['charttime']]).unique()\n",
    "            unique_timestp.sort() # list of unique timestamps from all 3 sources sorted in ascending order\n",
    "            \n",
    "            for i in range(len(unique_timestp)):\n",
    "                timedata = temp.loc[temp['charttime'] == unique_timestp[i]]\n",
    "                if len(timedata) > 0:\n",
    "                    try:\n",
    "                        col = timedata['colnum'].values[0]\n",
    "                    except KeyError:\n",
    "                        print(timedata.head())\n",
    "                        sys.exit()\n",
    "                    value = timedata['valuenum'].values[0]\n",
    "                    reformat.at[irow, 'timestep'] = i\n",
    "                    reformat.at[irow, 'icustay_id'] = icustayid\n",
    "                    reformat.at[irow, 'charttime'] = unique_timestp[i]\n",
    "                    reformat.at[irow, 3 + col] = value\n",
    "\n",
    "                # LAB values\n",
    "                timedata = temp2.loc[temp2['timestp'] == unique_timestp[i]]\n",
    "                if len(timedata) > 0:\n",
    "                    col = timedata['colnum'].values[0]\n",
    "                    value = timedata['valuenum'].values[0]\n",
    "                    reformat.at[irow, 31+col] = value;\n",
    "\n",
    "                # MV\n",
    "                value = temp3.loc[temp3['charttime'] == unique_timestp[i], ['mechvent', 'extubated']]\n",
    "                if len(value) > 0:\n",
    "                    reformat.at[irow, 'mechvent'] = value['mechvent'].values[0]\n",
    "                    reformat.at[irow, 'extubated'] = value['extubated'].values[0]\n",
    "                \n",
    "                irow = irow + 1\n",
    "            \n",
    "            if len(unique_timestp) > 0:\n",
    "                qstime = qstime.append({'icustay_id': icustayid, 'firsttimestp': unique_timestp[0], 'lasttimestp':unique_timestp[-1], 'dischtime': d1['dischtime'].values[0]}, ignore_index = True)\n",
    "            \n",
    "            "
   ]
  },
  {
   "cell_type": "code",
   "execution_count": 321,
   "metadata": {},
   "outputs": [
    {
     "data": {
      "text/plain": [
       "58"
      ]
     },
     "execution_count": 321,
     "metadata": {},
     "output_type": "execute_result"
    }
   ],
   "source": []
  },
  {
   "cell_type": "code",
   "execution_count": 304,
   "metadata": {},
   "outputs": [
    {
     "name": "stdout",
     "output_type": "stream",
     "text": [
      "   icustay_id     charttime  mechvent  extubated  selfextubated\n",
      "0      261764  7.013387e+09         0          0              0\n",
      "1      298685  6.189581e+09         1          0              0\n",
      "2      271544  7.211196e+09         1          0              0\n",
      "3      237528  7.016155e+09         0          0              0\n",
      "4      286072  7.229492e+09         1          0              0\n"
     ]
    }
   ],
   "source": [
    "print(MV.head())"
   ]
  },
  {
   "cell_type": "code",
   "execution_count": 310,
   "metadata": {},
   "outputs": [],
   "source": [
    "replace_itemids_with_col_num(ce7080,refvitals)"
   ]
  },
  {
   "cell_type": "code",
   "execution_count": 302,
   "metadata": {},
   "outputs": [
    {
     "data": {
      "text/plain": [
       "0      12.0\n",
       "1       5.0\n",
       "2       9.0\n",
       "3      10.0\n",
       "4       7.0\n",
       "       ... \n",
       "510     5.0\n",
       "511     5.0\n",
       "512     7.0\n",
       "513    10.0\n",
       "514     9.0\n",
       "Name: colnum, Length: 515, dtype: float64"
      ]
     },
     "execution_count": 302,
     "metadata": {},
     "output_type": "execute_result"
    }
   ],
   "source": [
    "ce1020.loc[labU['icustay_id'] == 201006.0]['colnum']"
   ]
  },
  {
   "cell_type": "code",
   "execution_count": null,
   "metadata": {},
   "outputs": [],
   "source": []
  }
 ],
 "metadata": {
  "kernelspec": {
   "display_name": "Python 3",
   "language": "python",
   "name": "python3"
  },
  "language_info": {
   "codemirror_mode": {
    "name": "ipython",
    "version": 3
   },
   "file_extension": ".py",
   "mimetype": "text/x-python",
   "name": "python",
   "nbconvert_exporter": "python",
   "pygments_lexer": "ipython3",
   "version": "3.8.0"
  }
 },
 "nbformat": 4,
 "nbformat_minor": 2
}
