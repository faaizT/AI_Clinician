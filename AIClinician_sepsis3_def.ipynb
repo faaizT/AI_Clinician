{
 "cells": [
  {
   "cell_type": "markdown",
   "metadata": {},
   "source": [
    "PURPOSE:\n",
    "------------------------------\n",
    "This creates a list of icustayIDs of patients who develop sepsis at some point \n",
    "in the ICU. records charttime for onset of sepsis. Uses sepsis3 criteria\n",
    "\n",
    "STEPS:\n",
    "-------------------------------\n",
    "IMPORT DATA FROM CSV FILES  \n",
    "FLAG PRESUMED INFECTION  \n",
    "PREPROCESSING  \n",
    "REFORMAT in 4h time slots  \n",
    "COMPUTE SOFA at each time step  \n",
    "FLAG SEPSIS  \n",
    "\n",
    "note: the process generates the same features as the final MDP dataset, most of which are not used to compute SOFA"
   ]
  },
  {
   "cell_type": "markdown",
   "metadata": {},
   "source": [
    "# Import all data"
   ]
  },
  {
   "cell_type": "code",
   "execution_count": 142,
   "metadata": {},
   "outputs": [],
   "source": [
    "import pandas as pd\n",
    "abx = pd.read_csv('/Users/faaiz/exportdir/abx.csv', sep='|')\n",
    "culture = pd.read_csv('/Users/faaiz/exportdir/culture.csv', sep='|')\n",
    "microbio = pd.read_csv('/Users/faaiz/exportdir/microbio.csv', sep='|')\n",
    "demog = pd.read_csv('/Users/faaiz/exportdir/demog.csv', sep='|')\n",
    "ce010 = pd.read_csv('/Users/faaiz/exportdir/ce010000.csv', sep='|')\n",
    "ce1020 = pd.read_csv('/Users/faaiz/exportdir/ce1000020000.csv', sep='|')\n",
    "ce2030 = pd.read_csv('/Users/faaiz/exportdir/ce2000030000.csv', sep='|')\n",
    "ce3040 = pd.read_csv('/Users/faaiz/exportdir/ce3000040000.csv', sep='|')\n",
    "ce4050 = pd.read_csv('/Users/faaiz/exportdir/ce4000050000.csv', sep='|')\n",
    "ce5060 = pd.read_csv('/Users/faaiz/exportdir/ce5000060000.csv', sep='|')\n",
    "ce6070 = pd.read_csv('/Users/faaiz/exportdir/ce6000070000.csv', sep='|')\n",
    "ce7080 = pd.read_csv('/Users/faaiz/exportdir/ce7000080000.csv', sep='|')\n",
    "ce8090 = pd.read_csv('/Users/faaiz/exportdir/ce8000090000.csv', sep='|')\n",
    "ce90100 = pd.read_csv('/Users/faaiz/exportdir/ce90000100000.csv', sep='|')\n",
    "lab_ce = pd.read_csv('/Users/faaiz/exportdir/labs_ce.csv', sep='|').rename(columns = {'charttime': 'timestp'}, inplace = False)\n",
    "lab_le = pd.read_csv('/Users/faaiz/exportdir/labs_le.csv', sep='|')\n",
    "labU = pd.concat([lab_ce, lab_le], ignore_index = True)\n",
    "MV = pd.read_csv('/Users/faaiz/exportdir/mechvent.csv', sep='|')\n",
    "inputpreadm = pd.read_csv('/Users/faaiz/exportdir/preadm_fluid.csv', sep='|')\n",
    "inputMV = pd.read_csv('/Users/faaiz/exportdir/fluid_mv.csv', sep='|')\n",
    "inputCV = pd.read_csv('/Users/faaiz/exportdir/fluid_cv.csv', sep='|')\n",
    "vasoMV = pd.read_csv('/Users/faaiz/exportdir/vaso_mv.csv', sep='|')\n",
    "vasoCV = pd.read_csv('/Users/faaiz/exportdir/vaso_cv.csv', sep='|')\n",
    "UOpreadm = pd.read_csv('/Users/faaiz/exportdir/preadm_uo.csv', sep='|')\n",
    "UO = pd.read_csv('/Users/faaiz/exportdir/uo.csv', sep='|')\n",
    "\n",
    "reflabs = pd.read_csv('/Users/faaiz/exportdir/Reflabs.csv', header=None)\n",
    "refvitals = pd.read_csv('/Users/faaiz/exportdir/Refvitals.csv', header=None)\n",
    "sample_and_hold = pd.read_csv('/Users/faaiz/exportdir/sample_and_hold.csv')"
   ]
  },
  {
   "cell_type": "markdown",
   "metadata": {},
   "source": [
    "# Initial Data Manipulations"
   ]
  },
  {
   "cell_type": "code",
   "execution_count": 143,
   "metadata": {},
   "outputs": [],
   "source": [
    "# if charttime is empty but chartdate isn't\n",
    "microbio.loc[microbio['charttime'].isnull(), 'charttime'] = microbio['chartdate'] \n",
    "microbio = microbio.drop(columns = 'chartdate')\n",
    "bacterio = pd.concat([microbio, culture], ignore_index = True)"
   ]
  },
  {
   "cell_type": "code",
   "execution_count": 144,
   "metadata": {},
   "outputs": [],
   "source": [
    "demog['morta_90'] = demog['morta_90'].fillna(0)\n",
    "demog['morta_hosp'] = demog['morta_hosp'].fillna(0)\n",
    "demog['elixhauser'] = demog['elixhauser'].fillna(0)"
   ]
  },
  {
   "cell_type": "code",
   "execution_count": 145,
   "metadata": {},
   "outputs": [],
   "source": [
    "inputMV.head()\n",
    "inputMV['normrate'] = inputMV['rate']*inputMV['tev']/inputMV['amount']"
   ]
  },
  {
   "cell_type": "code",
   "execution_count": 149,
   "metadata": {},
   "outputs": [],
   "source": [
    "def find_icustay_id_from_demog(hadm_id, time, subject_id = None):\n",
    "    if subject_id is not None:\n",
    "        df = demog.loc[demog['subject_id'] == subject_id]\n",
    "    else:\n",
    "        df = demog.loc[demog['hadm_id'] == hadm_id]\n",
    "    for index, row in df.iterrows():\n",
    "        if (time >= row['intime'] - 48*3600 and time <= row['outtime'] + 48*3600) or len(df) == 1:\n",
    "            return row['icustay_id']\n",
    "    df2 = df.loc[df['hadm_id'] == hadm_id]\n",
    "    if len(df2) == 1:\n",
    "        return df2['icustay_id'].values[0]\n",
    "    return None"
   ]
  },
  {
   "cell_type": "code",
   "execution_count": 152,
   "metadata": {},
   "outputs": [
    {
     "data": {
      "text/plain": [
       "30"
      ]
     },
     "execution_count": 152,
     "metadata": {},
     "output_type": "execute_result"
    }
   ],
   "source": [
    "# TODO: to be removed!\n",
    "len(bacterio)\n",
    "len(bacterio.loc[bacterio['icustay_id'].isnull()])"
   ]
  },
  {
   "cell_type": "code",
   "execution_count": 151,
   "metadata": {},
   "outputs": [],
   "source": [
    "bacterio.head()\n",
    "# Fill in missing ICUSTAY IDs in bacterio\n",
    "for index, row in bacterio.iterrows():\n",
    "    if pd.isna(row['icustay_id']):\n",
    "        charttime, hadm_id, subject_id = row['charttime'], row['hadm_id'], row['subject_id']\n",
    "        icustayid = find_icustay_id_from_demog(hadm_id, charttime, subject_id)\n",
    "        if icustayid is not None:\n",
    "            bacterio.at[index,'icustay_id'] = icustayid"
   ]
  },
  {
   "cell_type": "code",
   "execution_count": 154,
   "metadata": {},
   "outputs": [],
   "source": [
    "# Fill in missing ICUSTAY IDs in bacterio\n",
    "for index, row in abx.iterrows():\n",
    "    if pd.isna(row['icustay_id']):\n",
    "        time, hadm_id = row['startdate'], row['hadm_id']\n",
    "        icustayid = find_icustay_id_from_demog(hadm_id, time)\n",
    "        if icustayid is not None:\n",
    "            abx.at[index,'icustay_id'] = icustayid"
   ]
  },
  {
   "cell_type": "markdown",
   "metadata": {},
   "source": [
    "# Find presumed onset of infection according to sepsis3 guidelines"
   ]
  },
  {
   "cell_type": "code",
   "execution_count": 212,
   "metadata": {},
   "outputs": [],
   "source": [
    "from sklearn.metrics.pairwise import euclidean_distances\n",
    "\n",
    "onset = pd.DataFrame(columns=['subject_id', 'icustay_id', 'onsettime'])\n",
    "\n",
    "for icustayid in range(1,100001):\n",
    "    ab = pd.Series.to_numpy(abx.loc[abx['icustay_id'] == icustayid + 200000, 'startdate'])\n",
    "    bact = pd.Series.to_numpy(bacterio.loc[bacterio['icustay_id'] == icustayid + 200000, 'charttime'])\n",
    "    subj_bact = pd.Series.to_numpy(bacterio.loc[bacterio['icustay_id'] == icustayid + 200000, 'subject_id'])\n",
    "    \n",
    "    if len(ab) > 0 and len(bact) > 0:\n",
    "        D = euclidean_distances(ab.reshape(-1,1), bact.reshape(-1,1))/3600\n",
    "        for i in range(len(D)):\n",
    "            M = min(D[i])\n",
    "            I = D[i].argmin()\n",
    "            ab1 = ab[i]\n",
    "            bact1 = bact[I]\n",
    "            \n",
    "            if M <= 24 and ab1 <= bact1:\n",
    "                onset = onset.append({'subject_id': subj_bact[0], 'icustay_id': icustayid, 'onsettime': ab1}, ignore_index=True)\n",
    "                break\n",
    "            elif M <= 72 and ab1 >= bact1:\n",
    "                onset = onset.append({'subject_id': subj_bact[0], 'icustay_id': icustayid, 'onsettime': bact1}, ignore_index=True)\n",
    "                break\n",
    "        "
   ]
  },
  {
   "cell_type": "code",
   "execution_count": 213,
   "metadata": {},
   "outputs": [
    {
     "data": {
      "text/plain": [
       "65"
      ]
     },
     "execution_count": 213,
     "metadata": {},
     "output_type": "execute_result"
    }
   ],
   "source": [
    "len(onset.loc[onset['onsettime']>0])"
   ]
  },
  {
   "cell_type": "markdown",
   "metadata": {},
   "source": [
    "# Replacing item_ids with column numbers from reference tables"
   ]
  },
  {
   "cell_type": "code",
   "execution_count": 228,
   "metadata": {},
   "outputs": [],
   "source": [
    "def find_the_row_number(df, num):\n",
    "    for index, row in df.iterrows():\n",
    "        arr = pd.Series.to_numpy(row)\n",
    "        if num in arr:\n",
    "            return index+1\n",
    "        \n",
    "def replace_itemids_with_row_num(df, reftable):\n",
    "    for index, row in df.iterrows():\n",
    "        df.at[index, 'rownum'] = find_the_row_number(reftable, row['itemid'])\n",
    "    df.drop(columns=['itemid'], inplace=True)"
   ]
  },
  {
   "cell_type": "code",
   "execution_count": 226,
   "metadata": {},
   "outputs": [
    {
     "data": {
      "text/html": [
       "<div>\n",
       "<style scoped>\n",
       "    .dataframe tbody tr th:only-of-type {\n",
       "        vertical-align: middle;\n",
       "    }\n",
       "\n",
       "    .dataframe tbody tr th {\n",
       "        vertical-align: top;\n",
       "    }\n",
       "\n",
       "    .dataframe thead th {\n",
       "        text-align: right;\n",
       "    }\n",
       "</style>\n",
       "<table border=\"1\" class=\"dataframe\">\n",
       "  <thead>\n",
       "    <tr style=\"text-align: right;\">\n",
       "      <th></th>\n",
       "      <th>icustay_id</th>\n",
       "      <th>timestp</th>\n",
       "      <th>valuenum</th>\n",
       "      <th>rownum</th>\n",
       "    </tr>\n",
       "  </thead>\n",
       "  <tbody>\n",
       "    <tr>\n",
       "      <th>0</th>\n",
       "      <td>201006</td>\n",
       "      <td>4.330384e+09</td>\n",
       "      <td>2.40</td>\n",
       "      <td>16.0</td>\n",
       "    </tr>\n",
       "    <tr>\n",
       "      <th>1</th>\n",
       "      <td>201006</td>\n",
       "      <td>4.330384e+09</td>\n",
       "      <td>17.00</td>\n",
       "      <td>5.0</td>\n",
       "    </tr>\n",
       "    <tr>\n",
       "      <th>2</th>\n",
       "      <td>201006</td>\n",
       "      <td>4.330384e+09</td>\n",
       "      <td>7.50</td>\n",
       "      <td>8.0</td>\n",
       "    </tr>\n",
       "    <tr>\n",
       "      <th>3</th>\n",
       "      <td>201006</td>\n",
       "      <td>4.330384e+09</td>\n",
       "      <td>22.00</td>\n",
       "      <td>10.0</td>\n",
       "    </tr>\n",
       "    <tr>\n",
       "      <th>4</th>\n",
       "      <td>201006</td>\n",
       "      <td>4.330384e+09</td>\n",
       "      <td>101.00</td>\n",
       "      <td>3.0</td>\n",
       "    </tr>\n",
       "    <tr>\n",
       "      <th>...</th>\n",
       "      <td>...</td>\n",
       "      <td>...</td>\n",
       "      <td>...</td>\n",
       "      <td>...</td>\n",
       "    </tr>\n",
       "    <tr>\n",
       "      <th>56058</th>\n",
       "      <td>286020</td>\n",
       "      <td>6.959992e+09</td>\n",
       "      <td>1.60</td>\n",
       "      <td>27.0</td>\n",
       "    </tr>\n",
       "    <tr>\n",
       "      <th>56059</th>\n",
       "      <td>286020</td>\n",
       "      <td>6.959992e+09</td>\n",
       "      <td>199.00</td>\n",
       "      <td>23.0</td>\n",
       "    </tr>\n",
       "    <tr>\n",
       "      <th>56060</th>\n",
       "      <td>286020</td>\n",
       "      <td>6.959992e+09</td>\n",
       "      <td>16.90</td>\n",
       "      <td>25.0</td>\n",
       "    </tr>\n",
       "    <tr>\n",
       "      <th>56061</th>\n",
       "      <td>286020</td>\n",
       "      <td>6.959992e+09</td>\n",
       "      <td>4.04</td>\n",
       "      <td>21.0</td>\n",
       "    </tr>\n",
       "    <tr>\n",
       "      <th>56062</th>\n",
       "      <td>286020</td>\n",
       "      <td>6.959992e+09</td>\n",
       "      <td>10.50</td>\n",
       "      <td>22.0</td>\n",
       "    </tr>\n",
       "  </tbody>\n",
       "</table>\n",
       "<p>56063 rows × 4 columns</p>\n",
       "</div>"
      ],
      "text/plain": [
       "       icustay_id       timestp  valuenum  rownum\n",
       "0          201006  4.330384e+09      2.40    16.0\n",
       "1          201006  4.330384e+09     17.00     5.0\n",
       "2          201006  4.330384e+09      7.50     8.0\n",
       "3          201006  4.330384e+09     22.00    10.0\n",
       "4          201006  4.330384e+09    101.00     3.0\n",
       "...           ...           ...       ...     ...\n",
       "56058      286020  6.959992e+09      1.60    27.0\n",
       "56059      286020  6.959992e+09    199.00    23.0\n",
       "56060      286020  6.959992e+09     16.90    25.0\n",
       "56061      286020  6.959992e+09      4.04    21.0\n",
       "56062      286020  6.959992e+09     10.50    22.0\n",
       "\n",
       "[56063 rows x 4 columns]"
      ]
     },
     "execution_count": 226,
     "metadata": {},
     "output_type": "execute_result"
    }
   ],
   "source": [
    "for index, row in labU.iterrows():\n",
    "    labU.at[index,'rownum'] = find_the_row_number(reflabs, row['itemid'])\n",
    "\n",
    "labU = labU.drop(columns=['itemid'])"
   ]
  },
  {
   "cell_type": "code",
   "execution_count": 229,
   "metadata": {},
   "outputs": [],
   "source": [
    "replace_itemids_with_row_num(ce010,refvitals)\n",
    "replace_itemids_with_row_num(ce1020,refvitals)\n",
    "replace_itemids_with_row_num(ce2030,refvitals)\n",
    "replace_itemids_with_row_num(ce3040,refvitals)\n",
    "replace_itemids_with_row_num(ce4050,refvitals)\n",
    "replace_itemids_with_row_num(ce5060,refvitals)\n",
    "replace_itemids_with_row_num(ce6070,refvitals)\n",
    "replace_itemids_with_row_num(ce8090,refvitals)\n",
    "replace_itemids_with_row_num(ce90100,refvitals)"
   ]
  },
  {
   "cell_type": "code",
   "execution_count": null,
   "metadata": {},
   "outputs": [],
   "source": []
  }
 ],
 "metadata": {
  "kernelspec": {
   "display_name": "Python 3",
   "language": "python",
   "name": "python3"
  },
  "language_info": {
   "codemirror_mode": {
    "name": "ipython",
    "version": 3
   },
   "file_extension": ".py",
   "mimetype": "text/x-python",
   "name": "python",
   "nbconvert_exporter": "python",
   "pygments_lexer": "ipython3",
   "version": "3.8.0"
  }
 },
 "nbformat": 4,
 "nbformat_minor": 2
}
