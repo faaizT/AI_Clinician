{
 "cells": [
  {
   "cell_type": "markdown",
   "metadata": {},
   "source": [
    "PURPOSE:\n",
    "------------------------------\n",
    "This creates a list of icustayIDs of patients who develop sepsis at some point \n",
    "in the ICU. records charttime for onset of sepsis. Uses sepsis3 criteria\n",
    "\n",
    "STEPS:\n",
    "-------------------------------\n",
    "IMPORT DATA FROM CSV FILES  \n",
    "FLAG PRESUMED INFECTION  \n",
    "PREPROCESSING  \n",
    "REFORMAT in 4h time slots  \n",
    "COMPUTE SOFA at each time step  \n",
    "FLAG SEPSIS  \n",
    "\n",
    "note: the process generates the same features as the final MDP dataset, most of which are not used to compute SOFA"
   ]
  },
  {
   "cell_type": "markdown",
   "metadata": {},
   "source": [
    "# Import all data"
   ]
  },
  {
   "cell_type": "code",
   "execution_count": 414,
   "metadata": {},
   "outputs": [],
   "source": [
    "import pandas as pd\n",
    "abx = pd.read_csv('/Users/faaiz/exportdir/abx.csv', sep='|')\n",
    "culture = pd.read_csv('/Users/faaiz/exportdir/culture.csv', sep='|')\n",
    "microbio = pd.read_csv('/Users/faaiz/exportdir/microbio.csv', sep='|')\n",
    "demog = pd.read_csv('/Users/faaiz/exportdir/demog.csv', sep='|')\n",
    "ce010 = pd.read_csv('/Users/faaiz/exportdir/ce010000.csv', sep='|')\n",
    "ce1020 = pd.read_csv('/Users/faaiz/exportdir/ce1000020000.csv', sep='|')\n",
    "ce2030 = pd.read_csv('/Users/faaiz/exportdir/ce2000030000.csv', sep='|')\n",
    "ce3040 = pd.read_csv('/Users/faaiz/exportdir/ce3000040000.csv', sep='|')\n",
    "ce4050 = pd.read_csv('/Users/faaiz/exportdir/ce4000050000.csv', sep='|')\n",
    "ce5060 = pd.read_csv('/Users/faaiz/exportdir/ce5000060000.csv', sep='|')\n",
    "ce6070 = pd.read_csv('/Users/faaiz/exportdir/ce6000070000.csv', sep='|')\n",
    "ce7080 = pd.read_csv('/Users/faaiz/exportdir/ce7000080000.csv', sep='|')\n",
    "ce8090 = pd.read_csv('/Users/faaiz/exportdir/ce8000090000.csv', sep='|')\n",
    "ce90100 = pd.read_csv('/Users/faaiz/exportdir/ce90000100000.csv', sep='|')\n",
    "lab_ce = pd.read_csv('/Users/faaiz/exportdir/labs_ce.csv', sep='|').rename(columns = {'charttime': 'timestp'}, inplace = False)\n",
    "lab_le = pd.read_csv('/Users/faaiz/exportdir/labs_le.csv', sep='|')\n",
    "labU = pd.concat([lab_ce, lab_le], ignore_index = True)\n",
    "MV = pd.read_csv('/Users/faaiz/exportdir/mechvent.csv', sep='|')\n",
    "inputpreadm = pd.read_csv('/Users/faaiz/exportdir/preadm_fluid.csv', sep='|')\n",
    "inputMV = pd.read_csv('/Users/faaiz/exportdir/fluid_mv.csv', sep='|')\n",
    "inputCV = pd.read_csv('/Users/faaiz/exportdir/fluid_cv.csv', sep='|')\n",
    "vasoMV = pd.read_csv('/Users/faaiz/exportdir/vaso_mv.csv', sep='|')\n",
    "vasoCV = pd.read_csv('/Users/faaiz/exportdir/vaso_cv.csv', sep='|')\n",
    "UOpreadm = pd.read_csv('/Users/faaiz/exportdir/preadm_uo.csv', sep='|')\n",
    "UO = pd.read_csv('/Users/faaiz/exportdir/uo.csv', sep='|')\n",
    "\n",
    "reflabs = pd.read_csv('/Users/faaiz/exportdir/Reflabs.csv', header=None)\n",
    "refvitals = pd.read_csv('/Users/faaiz/exportdir/Refvitals.csv', header=None)\n",
    "sample_and_hold = pd.read_csv('/Users/faaiz/exportdir/sample_and_hold.csv')"
   ]
  },
  {
   "cell_type": "markdown",
   "metadata": {},
   "source": [
    "# Initial Data Manipulations"
   ]
  },
  {
   "cell_type": "code",
   "execution_count": 415,
   "metadata": {},
   "outputs": [],
   "source": [
    "# if charttime is empty but chartdate isn't\n",
    "microbio.loc[microbio['charttime'].isnull(), 'charttime'] = microbio['chartdate'] \n",
    "microbio = microbio.drop(columns = 'chartdate')\n",
    "bacterio = pd.concat([microbio, culture], ignore_index = True)"
   ]
  },
  {
   "cell_type": "code",
   "execution_count": 416,
   "metadata": {},
   "outputs": [],
   "source": [
    "demog['morta_90'] = demog['morta_90'].fillna(0)\n",
    "demog['morta_hosp'] = demog['morta_hosp'].fillna(0)\n",
    "demog['elixhauser'] = demog['elixhauser'].fillna(0)"
   ]
  },
  {
   "cell_type": "code",
   "execution_count": 417,
   "metadata": {},
   "outputs": [],
   "source": [
    "inputMV.head()\n",
    "inputMV['normrate'] = inputMV['rate']*inputMV['tev']/inputMV['amount']"
   ]
  },
  {
   "cell_type": "code",
   "execution_count": 418,
   "metadata": {},
   "outputs": [],
   "source": [
    "def find_icustay_id_from_demog(hadm_id, time, subject_id = None):\n",
    "    if subject_id is not None:\n",
    "        df = demog.loc[demog['subject_id'] == subject_id]\n",
    "    else:\n",
    "        df = demog.loc[demog['hadm_id'] == hadm_id]\n",
    "    for index, row in df.iterrows():\n",
    "        if (time >= row['intime'] - 48*3600 and time <= row['outtime'] + 48*3600) or len(df) == 1:\n",
    "            return row['icustay_id']\n",
    "    df2 = df.loc[df['hadm_id'] == hadm_id]\n",
    "    if len(df2) == 1:\n",
    "        return df2['icustay_id'].values[0]\n",
    "    return None"
   ]
  },
  {
   "cell_type": "code",
   "execution_count": 419,
   "metadata": {},
   "outputs": [
    {
     "data": {
      "text/plain": [
       "2003"
      ]
     },
     "execution_count": 419,
     "metadata": {},
     "output_type": "execute_result"
    }
   ],
   "source": [
    "# TODO: to be removed!\n",
    "len(bacterio)\n",
    "len(bacterio.loc[bacterio['icustay_id'].isnull()])"
   ]
  },
  {
   "cell_type": "code",
   "execution_count": 420,
   "metadata": {},
   "outputs": [],
   "source": [
    "bacterio.head()\n",
    "# Fill in missing ICUSTAY IDs in bacterio\n",
    "for index, row in bacterio.iterrows():\n",
    "    if pd.isna(row['icustay_id']):\n",
    "        charttime, hadm_id, subject_id = row['charttime'], row['hadm_id'], row['subject_id']\n",
    "        icustayid = find_icustay_id_from_demog(hadm_id, charttime, subject_id)\n",
    "        if icustayid is not None:\n",
    "            bacterio.at[index,'icustay_id'] = icustayid"
   ]
  },
  {
   "cell_type": "code",
   "execution_count": 421,
   "metadata": {},
   "outputs": [],
   "source": [
    "# Fill in missing ICUSTAY IDs in bacterio\n",
    "for index, row in abx.iterrows():\n",
    "    if pd.isna(row['icustay_id']):\n",
    "        time, hadm_id = row['startdate'], row['hadm_id']\n",
    "        icustayid = find_icustay_id_from_demog(hadm_id, time)\n",
    "        if icustayid is not None:\n",
    "            abx.at[index,'icustay_id'] = icustayid"
   ]
  },
  {
   "cell_type": "markdown",
   "metadata": {},
   "source": [
    "# Find presumed onset of infection according to sepsis3 guidelines"
   ]
  },
  {
   "cell_type": "code",
   "execution_count": 422,
   "metadata": {},
   "outputs": [],
   "source": [
    "from sklearn.metrics.pairwise import euclidean_distances\n",
    "\n",
    "onset = pd.DataFrame(columns=['subject_id', 'icustay_id', 'onsettime'])\n",
    "\n",
    "for icustayid in range(1,100001):\n",
    "    ab = pd.Series.to_numpy(abx.loc[abx['icustay_id'] == icustayid + 200000, 'startdate'])\n",
    "    bact = pd.Series.to_numpy(bacterio.loc[bacterio['icustay_id'] == icustayid + 200000, 'charttime'])\n",
    "    subj_bact = pd.Series.to_numpy(bacterio.loc[bacterio['icustay_id'] == icustayid + 200000, 'subject_id'])\n",
    "    \n",
    "    if len(ab) > 0 and len(bact) > 0:\n",
    "        D = euclidean_distances(ab.reshape(-1,1), bact.reshape(-1,1))/3600\n",
    "        for i in range(len(D)):\n",
    "            M = min(D[i])\n",
    "            I = D[i].argmin()\n",
    "            ab1 = ab[i]\n",
    "            bact1 = bact[I]\n",
    "            \n",
    "            if M <= 24 and ab1 <= bact1:\n",
    "                onset = onset.append({'subject_id': subj_bact[0], 'icustay_id': icustayid, 'onsettime': ab1}, ignore_index=True)\n",
    "                break\n",
    "            elif M <= 72 and ab1 >= bact1:\n",
    "                onset = onset.append({'subject_id': subj_bact[0], 'icustay_id': icustayid, 'onsettime': bact1}, ignore_index=True)\n",
    "                break\n",
    "        "
   ]
  },
  {
   "cell_type": "code",
   "execution_count": 423,
   "metadata": {},
   "outputs": [
    {
     "data": {
      "text/plain": [
       "65"
      ]
     },
     "execution_count": 423,
     "metadata": {},
     "output_type": "execute_result"
    }
   ],
   "source": [
    "len(onset.loc[onset['onsettime']>0])"
   ]
  },
  {
   "cell_type": "markdown",
   "metadata": {},
   "source": [
    "# Replacing item_ids with column numbers from reference tables"
   ]
  },
  {
   "cell_type": "code",
   "execution_count": 424,
   "metadata": {},
   "outputs": [],
   "source": [
    "def find_the_col_number(df, num):\n",
    "    for index, row in df.iterrows():\n",
    "        arr = pd.Series.to_numpy(row)\n",
    "        if num in arr:\n",
    "            return int(index+1)\n",
    "        \n",
    "def replace_itemids_with_col_num(df, reftable):\n",
    "    for index, row in df.iterrows():\n",
    "        df.at[index, 'colnum'] = find_the_col_number(reftable, row['itemid'])\n",
    "    df.drop(columns=['itemid'], inplace=True)\n",
    "    df['colnum'] = df['colnum'].astype({'colnum': 'int64'})"
   ]
  },
  {
   "cell_type": "code",
   "execution_count": 425,
   "metadata": {},
   "outputs": [],
   "source": [
    "replace_itemids_with_col_num(labU, reflabs)\n",
    "replace_itemids_with_col_num(ce010,refvitals)\n",
    "replace_itemids_with_col_num(ce1020,refvitals)\n",
    "replace_itemids_with_col_num(ce2030,refvitals)\n",
    "replace_itemids_with_col_num(ce3040,refvitals)\n",
    "replace_itemids_with_col_num(ce4050,refvitals)\n",
    "replace_itemids_with_col_num(ce5060,refvitals)\n",
    "replace_itemids_with_col_num(ce6070,refvitals)\n",
    "replace_itemids_with_col_num(ce7080,refvitals)\n",
    "replace_itemids_with_col_num(ce8090,refvitals)\n",
    "replace_itemids_with_col_num(ce90100,refvitals)"
   ]
  },
  {
   "cell_type": "markdown",
   "metadata": {},
   "source": [
    "# Initial reformat with chartevents, labs and mechvent\n",
    "\n",
    "gives an array with all unique charttime (1 per row) and all items in columns.\n",
    "## IMPORTANT \n",
    "Here i use -48 -> +24 because that's for sepsis3 cohort defintion!!  \n",
    "I need different time period for the MDP (-24 -> +48)"
   ]
  },
  {
   "cell_type": "code",
   "execution_count": 426,
   "metadata": {},
   "outputs": [],
   "source": [
    "winb4=49   #lower limit for inclusion of data (48h before time flag)\n",
    "winaft=25  # upper limit (24h after)\n",
    "irow = 0\n",
    "reformat, qstime = pd.DataFrame(), pd.DataFrame()\n",
    "\n",
    "for icustayid in range(1,100001):\n",
    "    qst = onset.loc[onset['icustay_id'] == icustayid, 'onsettime']\n",
    "    if len(qst) > 0 and qst.values[0] > 0:\n",
    "        d1 = demog.loc[demog['icustay_id'] == icustayid + 200000, ['age', 'dischtime']]\n",
    "        \n",
    "        if len(d1['age']) > 0 and d1['age'].values[0] > 6574:\n",
    "            if icustayid < 10000:\n",
    "                temp = ce010.loc[ce010['icustay_id'] == icustayid + 200000]\n",
    "            elif icustayid < 20000:\n",
    "                temp = ce1020.loc[ce1020['icustay_id'] == icustayid + 200000]\n",
    "            elif icustayid < 30000:\n",
    "                temp = ce2030.loc[ce2030['icustay_id'] == icustayid + 200000]\n",
    "            elif icustayid < 40000:\n",
    "                temp = ce3040.loc[ce3040['icustay_id'] == icustayid + 200000]\n",
    "            elif icustayid < 50000:\n",
    "                temp = ce4050.loc[ce4050['icustay_id'] == icustayid + 200000]\n",
    "            elif icustayid < 60000:\n",
    "                temp = ce5060.loc[ce5060['icustay_id'] == icustayid + 200000]\n",
    "            elif icustayid < 70000:\n",
    "                temp = ce6070.loc[ce6070['icustay_id'] == icustayid + 200000]\n",
    "            elif icustayid < 80000:\n",
    "                temp = ce7080.loc[ce7080['icustay_id'] == icustayid + 200000]\n",
    "            elif icustayid < 90000:\n",
    "                temp = ce8090.loc[ce8090['icustay_id'] == icustayid + 200000]\n",
    "            else:\n",
    "                temp = ce90100.loc[ce90100['icustay_id'] == icustayid + 200000]\n",
    "            \n",
    "            temp = temp.loc[temp['charttime'].between(qst.values[0]-(winb4+4)*3600,qst.values[0]+(winaft+4)*3600)] #time period of interest\n",
    "            \n",
    "            # LABEVENTS\n",
    "            temp2 = labU.loc[labU['icustay_id'] == icustayid + 200000]\n",
    "            temp2 = temp2.loc[temp2['timestp'].between(qst.values[0]-(winb4+4)*3600,qst.values[0]+(winaft+4)*3600)] #time period of interest\n",
    "            \n",
    "            #MECH VENT and Exubated\n",
    "            temp3 = MV.loc[MV['icustay_id'] == icustayid + 200000]\n",
    "            temp3 = temp3.loc[temp3['charttime'].between(qst.values[0]-(winb4+4)*3600, qst.values[0]+(winaft+4)*3600)] #time period of interest\n",
    "            \n",
    "            unique_timestp = pd.concat([temp['charttime'], temp2['timestp'].rename('charttime'), temp3['charttime']]).unique()\n",
    "            unique_timestp.sort() # list of unique timestamps from all 3 sources sorted in ascending order\n",
    "            \n",
    "            for i in range(len(unique_timestp)):\n",
    "                timedata = temp.loc[temp['charttime'] == unique_timestp[i]]\n",
    "                if len(timedata) > 0:\n",
    "                    try:\n",
    "                        col = timedata['colnum'].values[0]\n",
    "                    except KeyError:\n",
    "                        print(timedata.head())\n",
    "                        sys.exit()\n",
    "                    value = timedata['valuenum'].values[0]\n",
    "                    reformat.at[irow, 'timestep'] = i\n",
    "                    reformat.at[irow, 'icustay_id'] = icustayid\n",
    "                    reformat.at[irow, 'charttime'] = unique_timestp[i]\n",
    "                    reformat.at[irow, 3 + col] = value\n",
    "\n",
    "                # LAB values\n",
    "                timedata = temp2.loc[temp2['timestp'] == unique_timestp[i]]\n",
    "                if len(timedata) > 0:\n",
    "                    col = timedata['colnum'].values[0]\n",
    "                    value = timedata['valuenum'].values[0]\n",
    "                    reformat.at[irow, 31+col] = value;\n",
    "\n",
    "                # MV\n",
    "                value = temp3.loc[temp3['charttime'] == unique_timestp[i], ['mechvent', 'extubated']]\n",
    "                if len(value) > 0:\n",
    "                    reformat.at[irow, 'mechvent'] = value['mechvent'].values[0]\n",
    "                    reformat.at[irow, 'extubated'] = value['extubated'].values[0]\n",
    "                \n",
    "                irow = irow + 1\n",
    "            \n",
    "            if len(unique_timestp) > 0:\n",
    "                qstime = qstime.append({'icustay_id': icustayid, 'firsttimestp': unique_timestp[0], 'lasttimestp':unique_timestp[-1], 'dischtime': d1['dischtime'].values[0]}, ignore_index = True)\n",
    "            \n",
    "            "
   ]
  },
  {
   "cell_type": "markdown",
   "metadata": {},
   "source": [
    "# Outliers"
   ]
  },
  {
   "cell_type": "code",
   "execution_count": 436,
   "metadata": {},
   "outputs": [],
   "source": [
    "def deloutbelow(df, var, thres):\n",
    "    if var in df:\n",
    "        for index, row in df.iterrows():\n",
    "            if row[var] < thres:\n",
    "                df.at[index, var] = None\n",
    "            \n",
    "def deloutabove(df, var, thres):\n",
    "    if var in df:\n",
    "        for index, row in df.iterrows():\n",
    "            if row[var] > thres:\n",
    "                df.at[index, var] = None"
   ]
  },
  {
   "cell_type": "code",
   "execution_count": 440,
   "metadata": {},
   "outputs": [],
   "source": [
    "# Weight\n",
    "deloutabove(reformat,'5',300)\n",
    "# HR\n",
    "deloutabove(reformat,'8',250)\n",
    "# BP\n",
    "deloutabove(reformat,'9',300)\n",
    "deloutbelow(reformat,'10',0)\n",
    "deloutabove(reformat,'10',200)\n",
    "deloutbelow(reformat,'11',0)\n",
    "deloutabove(reformat,'11',200)\n",
    "# RR\n",
    "deloutabove(reformat,'12',80)\n",
    "# Sp02\n",
    "deloutabove(reformat,'13',150);\n",
    "if '13' in reformat:\n",
    "    reformat.loc[reformat['13'] > 100, '13'] = 100\n",
    "# temp\n",
    "if '14' in reformat and '15' in reformat:\n",
    "    reformat.loc[(reformat['14'] > 90) & (reformat['15'].isnull()), '15'] = reformat['14']\n",
    "deloutabove(reformat,'14',90)\n",
    "# Fi02\n",
    "deloutabove(reformat,'23',100)\n",
    "if '23' in reformat:\n",
    "    reformat.loc[reformat['23'] < 1, '23'] = reformat['23']*100\n",
    "deloutbelow(reformat,'23',20)\n",
    "deloutabove(reformat,'24',1.5)\n",
    "# O2 Flow\n",
    "deloutabove(reformat,'25',70)\n",
    "# PEEP\n",
    "deloutbelow(reformat,'26',0)\n",
    "deloutabove(reformat,'26',40)\n",
    "# TV\n",
    "deloutabove(reformat,'27',1800)\n",
    "# MV\n",
    "deloutabove(reformat,'28',50)\n",
    "# K+\n",
    "deloutbelow(reformat,'32',1)\n",
    "deloutabove(reformat,'32',15)\n",
    "# Na\n",
    "deloutbelow(reformat,'33',95)\n",
    "deloutabove(reformat,'33',178)\n",
    "# Cl\n",
    "deloutbelow(reformat,'34',70)\n",
    "deloutabove(reformat,'34',150)\n",
    "# Glc\n",
    "deloutbelow(reformat,'35',1)\n",
    "deloutabove(reformat,'35',1000)\n",
    "# Creat\n",
    "deloutabove(reformat,'37',150)\n",
    "# Mg\n",
    "deloutabove(reformat,'38',10)\n",
    "# Ca\n",
    "deloutabove(reformat,'39',20)\n",
    "# ionized Ca\n",
    "deloutabove(reformat,'40',5)\n",
    "# CO2\n",
    "deloutabove(reformat,'41',120)\n",
    "# SGPT/SGOT\n",
    "deloutabove(reformat,'42',10000)\n",
    "deloutabove(reformat,'43',10000)\n",
    "# Hb/Ht\n",
    "deloutabove(reformat,'50',20)\n",
    "deloutabove(reformat,'51',65)\n",
    "# WBC\n",
    "deloutabove(reformat,'53',500)\n",
    "# plt\n",
    "deloutabove(reformat,'54',2000)\n",
    "# INR\n",
    "deloutabove(reformat,'58',20)\n",
    "# pH\n",
    "deloutbelow(reformat,'59',6.7)\n",
    "deloutabove(reformat,'59',8)\n",
    "# po2\n",
    "deloutabove(reformat,'60',700)\n",
    "# pco2\n",
    "deloutabove(reformat,'61',200)\n",
    "# BE\n",
    "deloutbelow(reformat,'62',-50)\n",
    "# lactate\n",
    "deloutabove(reformat,'63',30)"
   ]
  },
  {
   "cell_type": "markdown",
   "metadata": {},
   "source": [
    "Some more manipulation/imputation from existing values"
   ]
  },
  {
   "cell_type": "code",
   "execution_count": 412,
   "metadata": {},
   "outputs": [],
   "source": [
    "# estimate GCS from RASS - data from Wesley JAMA 2003\n"
   ]
  },
  {
   "cell_type": "code",
   "execution_count": 433,
   "metadata": {},
   "outputs": [
    {
     "data": {
      "text/html": [
       "<div>\n",
       "<style scoped>\n",
       "    .dataframe tbody tr th:only-of-type {\n",
       "        vertical-align: middle;\n",
       "    }\n",
       "\n",
       "    .dataframe tbody tr th {\n",
       "        vertical-align: top;\n",
       "    }\n",
       "\n",
       "    .dataframe thead th {\n",
       "        text-align: right;\n",
       "    }\n",
       "</style>\n",
       "<table border=\"1\" class=\"dataframe\">\n",
       "  <thead>\n",
       "    <tr style=\"text-align: right;\">\n",
       "      <th></th>\n",
       "      <th>a</th>\n",
       "      <th>b</th>\n",
       "    </tr>\n",
       "  </thead>\n",
       "  <tbody>\n",
       "    <tr>\n",
       "      <th>0</th>\n",
       "      <td>0</td>\n",
       "      <td>2</td>\n",
       "    </tr>\n",
       "    <tr>\n",
       "      <th>1</th>\n",
       "      <td>1</td>\n",
       "      <td>3</td>\n",
       "    </tr>\n",
       "  </tbody>\n",
       "</table>\n",
       "</div>"
      ],
      "text/plain": [
       "   a  b\n",
       "0  0  2\n",
       "1  1  3"
      ]
     },
     "execution_count": 433,
     "metadata": {},
     "output_type": "execute_result"
    }
   ],
   "source": [
    "df = pd.DataFrame({'a': [0,1], 'b':[2,3]})\n",
    "df.head()"
   ]
  },
  {
   "cell_type": "code",
   "execution_count": 438,
   "metadata": {},
   "outputs": [
    {
     "ename": "KeyError",
     "evalue": "'13'",
     "output_type": "error",
     "traceback": [
      "\u001b[0;31m---------------------------------------------------------------------------\u001b[0m",
      "\u001b[0;31mKeyError\u001b[0m                                  Traceback (most recent call last)",
      "\u001b[0;32m/Library/Frameworks/Python.framework/Versions/3.8/lib/python3.8/site-packages/pandas/core/indexes/base.py\u001b[0m in \u001b[0;36mget_loc\u001b[0;34m(self, key, method, tolerance)\u001b[0m\n\u001b[1;32m   2894\u001b[0m             \u001b[0;32mtry\u001b[0m\u001b[0;34m:\u001b[0m\u001b[0;34m\u001b[0m\u001b[0;34m\u001b[0m\u001b[0m\n\u001b[0;32m-> 2895\u001b[0;31m                 \u001b[0;32mreturn\u001b[0m \u001b[0mself\u001b[0m\u001b[0;34m.\u001b[0m\u001b[0m_engine\u001b[0m\u001b[0;34m.\u001b[0m\u001b[0mget_loc\u001b[0m\u001b[0;34m(\u001b[0m\u001b[0mcasted_key\u001b[0m\u001b[0;34m)\u001b[0m\u001b[0;34m\u001b[0m\u001b[0;34m\u001b[0m\u001b[0m\n\u001b[0m\u001b[1;32m   2896\u001b[0m             \u001b[0;32mexcept\u001b[0m \u001b[0mKeyError\u001b[0m \u001b[0;32mas\u001b[0m \u001b[0merr\u001b[0m\u001b[0;34m:\u001b[0m\u001b[0;34m\u001b[0m\u001b[0;34m\u001b[0m\u001b[0m\n",
      "\u001b[0;32mpandas/_libs/index.pyx\u001b[0m in \u001b[0;36mpandas._libs.index.IndexEngine.get_loc\u001b[0;34m()\u001b[0m\n",
      "\u001b[0;32mpandas/_libs/index.pyx\u001b[0m in \u001b[0;36mpandas._libs.index.IndexEngine.get_loc\u001b[0;34m()\u001b[0m\n",
      "\u001b[0;32mpandas/_libs/hashtable_class_helper.pxi\u001b[0m in \u001b[0;36mpandas._libs.hashtable.PyObjectHashTable.get_item\u001b[0;34m()\u001b[0m\n",
      "\u001b[0;32mpandas/_libs/hashtable_class_helper.pxi\u001b[0m in \u001b[0;36mpandas._libs.hashtable.PyObjectHashTable.get_item\u001b[0;34m()\u001b[0m\n",
      "\u001b[0;31mKeyError\u001b[0m: '13'",
      "\nThe above exception was the direct cause of the following exception:\n",
      "\u001b[0;31mKeyError\u001b[0m                                  Traceback (most recent call last)",
      "\u001b[0;32m<ipython-input-438-3f7d1aad21d9>\u001b[0m in \u001b[0;36m<module>\u001b[0;34m\u001b[0m\n\u001b[0;32m----> 1\u001b[0;31m \u001b[0mreformat\u001b[0m\u001b[0;34m[\u001b[0m\u001b[0;34m'13'\u001b[0m\u001b[0;34m]\u001b[0m\u001b[0;34m\u001b[0m\u001b[0;34m\u001b[0m\u001b[0m\n\u001b[0m",
      "\u001b[0;32m/Library/Frameworks/Python.framework/Versions/3.8/lib/python3.8/site-packages/pandas/core/frame.py\u001b[0m in \u001b[0;36m__getitem__\u001b[0;34m(self, key)\u001b[0m\n\u001b[1;32m   2904\u001b[0m             \u001b[0;32mif\u001b[0m \u001b[0mself\u001b[0m\u001b[0;34m.\u001b[0m\u001b[0mcolumns\u001b[0m\u001b[0;34m.\u001b[0m\u001b[0mnlevels\u001b[0m \u001b[0;34m>\u001b[0m \u001b[0;36m1\u001b[0m\u001b[0;34m:\u001b[0m\u001b[0;34m\u001b[0m\u001b[0;34m\u001b[0m\u001b[0m\n\u001b[1;32m   2905\u001b[0m                 \u001b[0;32mreturn\u001b[0m \u001b[0mself\u001b[0m\u001b[0;34m.\u001b[0m\u001b[0m_getitem_multilevel\u001b[0m\u001b[0;34m(\u001b[0m\u001b[0mkey\u001b[0m\u001b[0;34m)\u001b[0m\u001b[0;34m\u001b[0m\u001b[0;34m\u001b[0m\u001b[0m\n\u001b[0;32m-> 2906\u001b[0;31m             \u001b[0mindexer\u001b[0m \u001b[0;34m=\u001b[0m \u001b[0mself\u001b[0m\u001b[0;34m.\u001b[0m\u001b[0mcolumns\u001b[0m\u001b[0;34m.\u001b[0m\u001b[0mget_loc\u001b[0m\u001b[0;34m(\u001b[0m\u001b[0mkey\u001b[0m\u001b[0;34m)\u001b[0m\u001b[0;34m\u001b[0m\u001b[0;34m\u001b[0m\u001b[0m\n\u001b[0m\u001b[1;32m   2907\u001b[0m             \u001b[0;32mif\u001b[0m \u001b[0mis_integer\u001b[0m\u001b[0;34m(\u001b[0m\u001b[0mindexer\u001b[0m\u001b[0;34m)\u001b[0m\u001b[0;34m:\u001b[0m\u001b[0;34m\u001b[0m\u001b[0;34m\u001b[0m\u001b[0m\n\u001b[1;32m   2908\u001b[0m                 \u001b[0mindexer\u001b[0m \u001b[0;34m=\u001b[0m \u001b[0;34m[\u001b[0m\u001b[0mindexer\u001b[0m\u001b[0;34m]\u001b[0m\u001b[0;34m\u001b[0m\u001b[0;34m\u001b[0m\u001b[0m\n",
      "\u001b[0;32m/Library/Frameworks/Python.framework/Versions/3.8/lib/python3.8/site-packages/pandas/core/indexes/base.py\u001b[0m in \u001b[0;36mget_loc\u001b[0;34m(self, key, method, tolerance)\u001b[0m\n\u001b[1;32m   2895\u001b[0m                 \u001b[0;32mreturn\u001b[0m \u001b[0mself\u001b[0m\u001b[0;34m.\u001b[0m\u001b[0m_engine\u001b[0m\u001b[0;34m.\u001b[0m\u001b[0mget_loc\u001b[0m\u001b[0;34m(\u001b[0m\u001b[0mcasted_key\u001b[0m\u001b[0;34m)\u001b[0m\u001b[0;34m\u001b[0m\u001b[0;34m\u001b[0m\u001b[0m\n\u001b[1;32m   2896\u001b[0m             \u001b[0;32mexcept\u001b[0m \u001b[0mKeyError\u001b[0m \u001b[0;32mas\u001b[0m \u001b[0merr\u001b[0m\u001b[0;34m:\u001b[0m\u001b[0;34m\u001b[0m\u001b[0;34m\u001b[0m\u001b[0m\n\u001b[0;32m-> 2897\u001b[0;31m                 \u001b[0;32mraise\u001b[0m \u001b[0mKeyError\u001b[0m\u001b[0;34m(\u001b[0m\u001b[0mkey\u001b[0m\u001b[0;34m)\u001b[0m \u001b[0;32mfrom\u001b[0m \u001b[0merr\u001b[0m\u001b[0;34m\u001b[0m\u001b[0;34m\u001b[0m\u001b[0m\n\u001b[0m\u001b[1;32m   2898\u001b[0m \u001b[0;34m\u001b[0m\u001b[0m\n\u001b[1;32m   2899\u001b[0m         \u001b[0;32mif\u001b[0m \u001b[0mtolerance\u001b[0m \u001b[0;32mis\u001b[0m \u001b[0;32mnot\u001b[0m \u001b[0;32mNone\u001b[0m\u001b[0;34m:\u001b[0m\u001b[0;34m\u001b[0m\u001b[0;34m\u001b[0m\u001b[0m\n",
      "\u001b[0;31mKeyError\u001b[0m: '13'"
     ]
    }
   ],
   "source": [
    "reformat['13']"
   ]
  },
  {
   "cell_type": "code",
   "execution_count": null,
   "metadata": {},
   "outputs": [],
   "source": []
  }
 ],
 "metadata": {
  "kernelspec": {
   "display_name": "Python 3",
   "language": "python",
   "name": "python3"
  },
  "language_info": {
   "codemirror_mode": {
    "name": "ipython",
    "version": 3
   },
   "file_extension": ".py",
   "mimetype": "text/x-python",
   "name": "python",
   "nbconvert_exporter": "python",
   "pygments_lexer": "ipython3",
   "version": "3.8.0"
  }
 },
 "nbformat": 4,
 "nbformat_minor": 2
}
